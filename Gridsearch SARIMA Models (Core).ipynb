{
 "cells": [
  {
   "cell_type": "markdown",
   "id": "17eead9e",
   "metadata": {},
   "source": [
    "Loading in Data and custom functions"
   ]
  },
  {
   "cell_type": "code",
   "execution_count": 1,
   "id": "2522f567",
   "metadata": {},
   "outputs": [],
   "source": [
    "# imports\n",
    "import pandas as pd\n",
    "import numpy as np\n",
    "import matplotlib.pyplot as plt\n",
    "from pmdarima.arima.utils import ndiffs\n",
    "from statsmodels.tsa.stattools import adfuller\n",
    "from statsmodels.graphics.tsaplots import plot_acf, plot_pacf\n",
    "from statsmodels.tsa.arima.model import ARIMA\n",
    "import statsmodels.api as sm\n",
    "from sklearn.model_selection import TimeSeriesSplit\n",
    "from sklearn.metrics import mean_absolute_error, mean_squared_error, r2_score, mean_absolute_percentage_error\n",
    "from datetime import timedelta\n",
    "import statsmodels.tsa.api as tsa\n",
    "from pmdarima.model_selection import train_test_split\n",
    "from statsmodels.tsa.seasonal import seasonal_decompose\n",
    "import pmdarima as pm\n",
    "import itertools"
   ]
  },
  {
   "cell_type": "code",
   "execution_count": 2,
   "id": "972b3c04",
   "metadata": {},
   "outputs": [
    {
     "data": {
      "text/html": [
       "<div>\n",
       "<style scoped>\n",
       "    .dataframe tbody tr th:only-of-type {\n",
       "        vertical-align: middle;\n",
       "    }\n",
       "\n",
       "    .dataframe tbody tr th {\n",
       "        vertical-align: top;\n",
       "    }\n",
       "\n",
       "    .dataframe thead th {\n",
       "        text-align: right;\n",
       "    }\n",
       "</style>\n",
       "<table border=\"1\" class=\"dataframe\">\n",
       "  <thead>\n",
       "    <tr style=\"text-align: right;\">\n",
       "      <th></th>\n",
       "      <th>RegionID</th>\n",
       "      <th>SizeRank</th>\n",
       "      <th>RegionName</th>\n",
       "      <th>RegionType</th>\n",
       "      <th>StateName</th>\n",
       "      <th>State</th>\n",
       "      <th>Metro</th>\n",
       "      <th>CountyName</th>\n",
       "      <th>2000-01-31</th>\n",
       "      <th>2000-02-29</th>\n",
       "      <th>...</th>\n",
       "      <th>2021-12-31</th>\n",
       "      <th>2022-01-31</th>\n",
       "      <th>2022-02-28</th>\n",
       "      <th>2022-03-31</th>\n",
       "      <th>2022-04-30</th>\n",
       "      <th>2022-05-31</th>\n",
       "      <th>2022-06-30</th>\n",
       "      <th>2022-07-31</th>\n",
       "      <th>2022-08-31</th>\n",
       "      <th>2022-09-30</th>\n",
       "    </tr>\n",
       "  </thead>\n",
       "  <tbody>\n",
       "    <tr>\n",
       "      <th>0</th>\n",
       "      <td>6181</td>\n",
       "      <td>0</td>\n",
       "      <td>New York</td>\n",
       "      <td>city</td>\n",
       "      <td>NY</td>\n",
       "      <td>NY</td>\n",
       "      <td>New York-Newark-Jersey City, NY-NJ-PA</td>\n",
       "      <td>Queens County</td>\n",
       "      <td>253690.0</td>\n",
       "      <td>255517.0</td>\n",
       "      <td>...</td>\n",
       "      <td>741586.0</td>\n",
       "      <td>745686.0</td>\n",
       "      <td>750578.0</td>\n",
       "      <td>756734.0</td>\n",
       "      <td>762321.0</td>\n",
       "      <td>768797.0</td>\n",
       "      <td>773944.0</td>\n",
       "      <td>777692.0</td>\n",
       "      <td>779960.0</td>\n",
       "      <td>781622.0</td>\n",
       "    </tr>\n",
       "    <tr>\n",
       "      <th>1</th>\n",
       "      <td>12447</td>\n",
       "      <td>1</td>\n",
       "      <td>Los Angeles</td>\n",
       "      <td>city</td>\n",
       "      <td>CA</td>\n",
       "      <td>CA</td>\n",
       "      <td>Los Angeles-Long Beach-Anaheim, CA</td>\n",
       "      <td>Los Angeles County</td>\n",
       "      <td>234181.0</td>\n",
       "      <td>234401.0</td>\n",
       "      <td>...</td>\n",
       "      <td>924019.0</td>\n",
       "      <td>928991.0</td>\n",
       "      <td>937936.0</td>\n",
       "      <td>953874.0</td>\n",
       "      <td>973168.0</td>\n",
       "      <td>990391.0</td>\n",
       "      <td>992337.0</td>\n",
       "      <td>992630.0</td>\n",
       "      <td>978196.0</td>\n",
       "      <td>966595.0</td>\n",
       "    </tr>\n",
       "    <tr>\n",
       "      <th>2</th>\n",
       "      <td>39051</td>\n",
       "      <td>2</td>\n",
       "      <td>Houston</td>\n",
       "      <td>city</td>\n",
       "      <td>TX</td>\n",
       "      <td>TX</td>\n",
       "      <td>Houston-The Woodlands-Sugar Land, TX</td>\n",
       "      <td>Harris County</td>\n",
       "      <td>109068.0</td>\n",
       "      <td>109079.0</td>\n",
       "      <td>...</td>\n",
       "      <td>245783.0</td>\n",
       "      <td>248718.0</td>\n",
       "      <td>252080.0</td>\n",
       "      <td>256435.0</td>\n",
       "      <td>261101.0</td>\n",
       "      <td>265558.0</td>\n",
       "      <td>268901.0</td>\n",
       "      <td>271059.0</td>\n",
       "      <td>272400.0</td>\n",
       "      <td>272639.0</td>\n",
       "    </tr>\n",
       "    <tr>\n",
       "      <th>3</th>\n",
       "      <td>17426</td>\n",
       "      <td>3</td>\n",
       "      <td>Chicago</td>\n",
       "      <td>city</td>\n",
       "      <td>IL</td>\n",
       "      <td>IL</td>\n",
       "      <td>Chicago-Naperville-Elgin, IL-IN-WI</td>\n",
       "      <td>Cook County</td>\n",
       "      <td>166139.0</td>\n",
       "      <td>166536.0</td>\n",
       "      <td>...</td>\n",
       "      <td>302821.0</td>\n",
       "      <td>305104.0</td>\n",
       "      <td>306404.0</td>\n",
       "      <td>308303.0</td>\n",
       "      <td>309649.0</td>\n",
       "      <td>312487.0</td>\n",
       "      <td>314663.0</td>\n",
       "      <td>315910.0</td>\n",
       "      <td>315587.0</td>\n",
       "      <td>315429.0</td>\n",
       "    </tr>\n",
       "    <tr>\n",
       "      <th>4</th>\n",
       "      <td>6915</td>\n",
       "      <td>4</td>\n",
       "      <td>San Antonio</td>\n",
       "      <td>city</td>\n",
       "      <td>TX</td>\n",
       "      <td>TX</td>\n",
       "      <td>San Antonio-New Braunfels, TX</td>\n",
       "      <td>Bexar County</td>\n",
       "      <td>114794.0</td>\n",
       "      <td>114975.0</td>\n",
       "      <td>...</td>\n",
       "      <td>269323.0</td>\n",
       "      <td>274032.0</td>\n",
       "      <td>278464.0</td>\n",
       "      <td>284127.0</td>\n",
       "      <td>289739.0</td>\n",
       "      <td>294776.0</td>\n",
       "      <td>297727.0</td>\n",
       "      <td>298796.0</td>\n",
       "      <td>299124.0</td>\n",
       "      <td>298951.0</td>\n",
       "    </tr>\n",
       "  </tbody>\n",
       "</table>\n",
       "<p>5 rows × 281 columns</p>\n",
       "</div>"
      ],
      "text/plain": [
       "   RegionID  SizeRank   RegionName RegionType StateName State  \\\n",
       "0      6181         0     New York       city        NY    NY   \n",
       "1     12447         1  Los Angeles       city        CA    CA   \n",
       "2     39051         2      Houston       city        TX    TX   \n",
       "3     17426         3      Chicago       city        IL    IL   \n",
       "4      6915         4  San Antonio       city        TX    TX   \n",
       "\n",
       "                                   Metro          CountyName  2000-01-31  \\\n",
       "0  New York-Newark-Jersey City, NY-NJ-PA       Queens County    253690.0   \n",
       "1     Los Angeles-Long Beach-Anaheim, CA  Los Angeles County    234181.0   \n",
       "2   Houston-The Woodlands-Sugar Land, TX       Harris County    109068.0   \n",
       "3     Chicago-Naperville-Elgin, IL-IN-WI         Cook County    166139.0   \n",
       "4          San Antonio-New Braunfels, TX        Bexar County    114794.0   \n",
       "\n",
       "   2000-02-29  ...  2021-12-31  2022-01-31  2022-02-28  2022-03-31  \\\n",
       "0    255517.0  ...    741586.0    745686.0    750578.0    756734.0   \n",
       "1    234401.0  ...    924019.0    928991.0    937936.0    953874.0   \n",
       "2    109079.0  ...    245783.0    248718.0    252080.0    256435.0   \n",
       "3    166536.0  ...    302821.0    305104.0    306404.0    308303.0   \n",
       "4    114975.0  ...    269323.0    274032.0    278464.0    284127.0   \n",
       "\n",
       "   2022-04-30  2022-05-31  2022-06-30  2022-07-31  2022-08-31  2022-09-30  \n",
       "0    762321.0    768797.0    773944.0    777692.0    779960.0    781622.0  \n",
       "1    973168.0    990391.0    992337.0    992630.0    978196.0    966595.0  \n",
       "2    261101.0    265558.0    268901.0    271059.0    272400.0    272639.0  \n",
       "3    309649.0    312487.0    314663.0    315910.0    315587.0    315429.0  \n",
       "4    289739.0    294776.0    297727.0    298796.0    299124.0    298951.0  \n",
       "\n",
       "[5 rows x 281 columns]"
      ]
     },
     "execution_count": 2,
     "metadata": {},
     "output_type": "execute_result"
    }
   ],
   "source": [
    "# Load the Zillow dataset\n",
    "url = \"https://docs.google.com/spreadsheets/d/e/2PACX-1vQN3Ksa9szQuO4G1-msXWAp17KtVHQCBnuEieu_auu1wSiBf3-krHusIx5VBMkihxj-KZLBosDIGEyR/pub?output=csv\"\n",
    "ts = pd.read_csv(url)\n",
    "ts.head(5)"
   ]
  },
  {
   "cell_type": "code",
   "execution_count": 3,
   "id": "f8add35a",
   "metadata": {},
   "outputs": [],
   "source": [
    "def plot_forecast(ts_train, ts_test, forecast_df, n_train_lags=None, \n",
    "                  figsize=(10,4), title='Comparing Forecast vs. True Data'):\n",
    "    ### PLot training data, and forecast (with upper/,lower ci)\n",
    "    fig, ax = plt.subplots(figsize=figsize)\n",
    "\n",
    "    # setting the number of train lags to plot if not specified\n",
    "    if n_train_lags==None:\n",
    "        n_train_lags = len(ts_train)\n",
    "            \n",
    "    # Plotting Training  and test data\n",
    "    ts_train.iloc[-n_train_lags:].plot(ax=ax, label=\"train\")\n",
    "    ts_test.plot(label=\"test\", ax=ax)\n",
    "\n",
    "    # Plot forecast\n",
    "    forecast_df['mean'].plot(ax=ax, color='green', label=\"forecast\")\n",
    "\n",
    "    # Add the shaded confidence interval\n",
    "    ax.fill_between(forecast_df.index, \n",
    "                    forecast_df['mean_ci_lower'],\n",
    "                   forecast_df['mean_ci_upper'],\n",
    "                   color='green', alpha=0.3,  lw=2)\n",
    "\n",
    "    # set the title and add legend\n",
    "    ax.set_title(title)\n",
    "    ax.legend();\n",
    "    \n",
    "    return fig, ax"
   ]
  },
  {
   "cell_type": "code",
   "execution_count": 4,
   "id": "b5a5721b",
   "metadata": {},
   "outputs": [],
   "source": [
    "# Custom function for Ad Fuller Test\n",
    "def get_adfuller_results(ts, alpha=.05, label='adfuller', **kwargs): #kwargs for adfuller()\n",
    "    # Saving each output\n",
    "    (test_stat, pval, nlags, nobs, crit_vals_d, \n",
    "    icbest ) = tsa.adfuller(ts, **kwargs)\n",
    "    # Converting output to a dictionary with the interpretation of p\n",
    "    adfuller_results = {'Test Statistic': test_stat,\n",
    "                        \"# of Lags Used\":nlags, \n",
    "                       '# of Observations':nobs,\n",
    "                        'p-value': round(pval,6),\n",
    "                        'alpha': alpha,\n",
    "                       'sig/stationary?': pval < alpha}\n",
    "    return pd.DataFrame(adfuller_results, index =[label])"
   ]
  },
  {
   "cell_type": "code",
   "execution_count": 5,
   "id": "94d843c8",
   "metadata": {},
   "outputs": [],
   "source": [
    "def regression_metrics_ts(ts_true, ts_pred, label=\"\", verbose=True, output_dict=False,):\n",
    "    # Get metrics\n",
    "    mae = mean_absolute_error(ts_true, ts_pred)\n",
    "    mse = mean_squared_error(ts_true, ts_pred)\n",
    "    rmse = mean_squared_error(ts_true, ts_pred, squared=False)\n",
    "    r_squared = r2_score(ts_true, ts_pred)\n",
    "    mae_perc = mean_absolute_percentage_error(ts_true, ts_pred) * 100\n",
    "\n",
    "    if verbose == True:\n",
    "        # Print Result with label\n",
    "        header = \"---\" * 20\n",
    "        print(header, f\"Regression Metrics: {label}\", header, sep=\"\\n\")\n",
    "        print(f\"- MAE = {mae:,.3f}\")\n",
    "        print(f\"- MSE = {mse:,.3f}\")\n",
    "        print(f\"- RMSE = {rmse:,.3f}\")\n",
    "        print(f\"- R^2 = {r_squared:,.3f}\")\n",
    "        print(f\"- MAPE = {mae_perc:,.2f}%\")\n",
    "\n",
    "    if output_dict == True:\n",
    "        metrics = {\n",
    "            \"Label\": label,\n",
    "            \"MAE\": mae,\n",
    "            \"MSE\": mse,\n",
    "            \"RMSE\": rmse,\n",
    "            \"R^2\": r_squared,\n",
    "            \"MAPE(%)\": mae_perc,\n",
    "        }\n",
    "        return metrics"
   ]
  },
  {
   "cell_type": "code",
   "execution_count": 6,
   "id": "f0bd07d0",
   "metadata": {},
   "outputs": [],
   "source": [
    "def plot_acf_pacf(ts, nlags=40, figsize=(10, 5), \n",
    "                  annotate_sig=False, alpha=.05,\n",
    "                 acf_kws={}, pacf_kws={},  \n",
    "                  annotate_seas=False, m = None,\n",
    "                 seas_color='black'):\n",
    "    \n",
    "    fig, axes = plt.subplots(nrows=2, figsize=figsize)\n",
    "\n",
    "    \n",
    "    # Sig lags line style\n",
    "    sig_vline_kwargs = dict( ls=':', lw=1, zorder=0, color='red')\n",
    "\n",
    "    # ACF\n",
    "    tsa.graphics.plot_acf(ts, ax=axes[0], lags=nlags, **acf_kws)\n",
    "    \n",
    "    ## Annotating sig acf lags\n",
    "    if annotate_sig == True:\n",
    "        sig_acf_lags = get_sig_lags(ts,nlags=nlags,alpha=alpha, type='ACF')\n",
    "        for lag in sig_acf_lags:\n",
    "            axes[0].axvline(lag,label='sig', **sig_vline_kwargs )\n",
    "\n",
    "    # PACF\n",
    "    tsa.graphics.plot_pacf(ts,ax=axes[1], lags=nlags, **pacf_kws)\n",
    "    \n",
    "    ## Annotating sig pacf lags\n",
    "    if annotate_sig == True:\n",
    "        ## ANNOTATING SIG LAGS\n",
    "        sig_pacf_lags = get_sig_lags(ts,nlags=nlags,alpha=alpha, type='PACF')\n",
    "        for lag in sig_pacf_lags:\n",
    "            axes[1].axvline(lag, label='sig', **sig_vline_kwargs)\n",
    "\n",
    "\n",
    "\n",
    "    \n",
    "    ### ANNOTATE SEASONS\n",
    "    if annotate_seas == True:\n",
    "        # Ensure m was defined\n",
    "        if m is None:\n",
    "            raise Exception(\"Must define value of m if annotate_seas=True.\")\n",
    "\n",
    "        ## Calculate number of complete seasons to annotate\n",
    "        n_seasons = nlags//m \n",
    "\n",
    "        # Seasonal Lines style\n",
    "        seas_vline_kwargs = dict( ls='--',lw=1, alpha=.7, color=seas_color, zorder=-1)\n",
    "        \n",
    "        ## for each season, add a line\n",
    "        for i in range(1, n_seasons+1):\n",
    "            axes[0].axvline(m*i, **seas_vline_kwargs, label=\"season\")\n",
    "            axes[1].axvline(m*i, **seas_vline_kwargs, label=\"season\")\n",
    "\n",
    "    fig.tight_layout()\n",
    "    \n",
    "    return fig"
   ]
  },
  {
   "cell_type": "markdown",
   "id": "ee4af8c3",
   "metadata": {},
   "source": [
    "Filtering Dataset"
   ]
  },
  {
   "cell_type": "code",
   "execution_count": 7,
   "id": "70d463ed",
   "metadata": {},
   "outputs": [
    {
     "name": "stdout",
     "output_type": "stream",
     "text": [
      "<class 'pandas.core.frame.DataFrame'>\n",
      "RangeIndex: 22467 entries, 0 to 22466\n",
      "Columns: 281 entries, RegionID to 2022-09-30\n",
      "dtypes: float64(273), int64(2), object(6)\n",
      "memory usage: 48.2+ MB\n"
     ]
    }
   ],
   "source": [
    "ts.info()"
   ]
  },
  {
   "cell_type": "code",
   "execution_count": 8,
   "id": "aa00fd81",
   "metadata": {},
   "outputs": [],
   "source": [
    "# Melt the DataFrame to reshape it to long format\n",
    "ts = pd.melt(ts, id_vars=['RegionID', 'SizeRank', 'RegionName', 'RegionType', 'StateName', 'State', 'Metro', 'CountyName'], var_name='Date', value_name='HomeValue')"
   ]
  },
  {
   "cell_type": "code",
   "execution_count": 9,
   "id": "a28d27c7",
   "metadata": {},
   "outputs": [],
   "source": [
    "# Convert 'Date' column to datetime format\n",
    "ts['Date'] = pd.to_datetime(ts['Date'], format='%Y-%m-%d', errors='coerce')\n",
    "# Filter data starting from 2018\n",
    "ts = ts[ts['Date'].dt.year >= 2018]\n",
    "# Set 'Date' as the index\n",
    "ts.set_index('Date', inplace=True)"
   ]
  },
  {
   "cell_type": "code",
   "execution_count": 10,
   "id": "7342f714",
   "metadata": {},
   "outputs": [
    {
     "data": {
      "text/plain": [
       "Metro\n",
       "New York-Newark-Jersey City, NY-NJ-PA           28272\n",
       "Chicago-Naperville-Elgin, IL-IN-WI              20349\n",
       "St. Louis, MO-IL                                14820\n",
       "Washington-Arlington-Alexandria, DC-VA-MD-WV    13851\n",
       "Philadelphia-Camden-Wilmington, PA-NJ-DE-MD     13566\n",
       "                                                ...  \n",
       "Deming, NM                                         57\n",
       "Lamesa, TX                                         57\n",
       "Carson City, NV                                    57\n",
       "Los Alamos, NM                                     57\n",
       "Centralia, IL                                      57\n",
       "Name: count, Length: 923, dtype: int64"
      ]
     },
     "execution_count": 10,
     "metadata": {},
     "output_type": "execute_result"
    }
   ],
   "source": [
    "# Only need NYC Metro values\n",
    "ts['Metro'].value_counts()"
   ]
  },
  {
   "cell_type": "code",
   "execution_count": 11,
   "id": "5b1b5025",
   "metadata": {},
   "outputs": [
    {
     "name": "stdout",
     "output_type": "stream",
     "text": [
      "<class 'pandas.core.frame.DataFrame'>\n",
      "DatetimeIndex: 28272 entries, 2018-01-31 to 2022-09-30\n",
      "Data columns (total 9 columns):\n",
      " #   Column      Non-Null Count  Dtype  \n",
      "---  ------      --------------  -----  \n",
      " 0   RegionID    28272 non-null  int64  \n",
      " 1   SizeRank    28272 non-null  int64  \n",
      " 2   RegionName  28272 non-null  object \n",
      " 3   RegionType  28272 non-null  object \n",
      " 4   StateName   28272 non-null  object \n",
      " 5   State       28272 non-null  object \n",
      " 6   Metro       28272 non-null  object \n",
      " 7   CountyName  28272 non-null  object \n",
      " 8   HomeValue   28116 non-null  float64\n",
      "dtypes: float64(1), int64(2), object(6)\n",
      "memory usage: 2.2+ MB\n"
     ]
    }
   ],
   "source": [
    "# Filter data for NYC metro only\n",
    "ts = ts[ts['Metro'] == 'New York-Newark-Jersey City, NY-NJ-PA']\n",
    "ts.info()"
   ]
  },
  {
   "cell_type": "code",
   "execution_count": 12,
   "id": "8409775c",
   "metadata": {},
   "outputs": [
    {
     "name": "stdout",
     "output_type": "stream",
     "text": [
      "<class 'pandas.core.frame.DataFrame'>\n",
      "DatetimeIndex: 28116 entries, 2018-01-31 to 2022-09-30\n",
      "Data columns (total 9 columns):\n",
      " #   Column      Non-Null Count  Dtype  \n",
      "---  ------      --------------  -----  \n",
      " 0   RegionID    28116 non-null  int64  \n",
      " 1   SizeRank    28116 non-null  int64  \n",
      " 2   RegionName  28116 non-null  object \n",
      " 3   RegionType  28116 non-null  object \n",
      " 4   StateName   28116 non-null  object \n",
      " 5   State       28116 non-null  object \n",
      " 6   Metro       28116 non-null  object \n",
      " 7   CountyName  28116 non-null  object \n",
      " 8   HomeValue   28116 non-null  float64\n",
      "dtypes: float64(1), int64(2), object(6)\n",
      "memory usage: 2.1+ MB\n"
     ]
    }
   ],
   "source": [
    "# Discarding Nulls\n",
    "ts = ts.dropna(subset=['HomeValue'])\n",
    "ts.info()"
   ]
  },
  {
   "cell_type": "code",
   "execution_count": 13,
   "id": "2ba90956",
   "metadata": {},
   "outputs": [
    {
     "name": "stdout",
     "output_type": "stream",
     "text": [
      "RegionID      0\n",
      "SizeRank      0\n",
      "RegionName    0\n",
      "RegionType    0\n",
      "StateName     0\n",
      "State         0\n",
      "Metro         0\n",
      "CountyName    0\n",
      "HomeValue     0\n",
      "dtype: int64\n"
     ]
    }
   ],
   "source": [
    "print(ts.isnull().sum())"
   ]
  },
  {
   "cell_type": "markdown",
   "id": "f3cb0eeb",
   "metadata": {},
   "source": [
    "Exploratory Data Analysis"
   ]
  },
  {
   "cell_type": "code",
   "execution_count": 14,
   "id": "98815f24",
   "metadata": {},
   "outputs": [
    {
     "name": "stdout",
     "output_type": "stream",
     "text": [
      "           Test Statistic  # of Lags Used  # of Observations  p-value  alpha  \\\n",
      "HomeValue      -17.268989              50              28065      0.0   0.05   \n",
      "\n",
      "           sig/stationary?  \n",
      "HomeValue             True  \n"
     ]
    }
   ],
   "source": [
    "# Check for stationarity using your custom function\n",
    "adfuller_results = get_adfuller_results(ts['HomeValue'], label='HomeValue')\n",
    "\n",
    "# Print the ADF test results\n",
    "print(adfuller_results)"
   ]
  },
  {
   "cell_type": "code",
   "execution_count": 15,
   "id": "747007d2",
   "metadata": {},
   "outputs": [
    {
     "name": "stdout",
     "output_type": "stream",
     "text": [
      "Number of Differences Needed: 0\n"
     ]
    }
   ],
   "source": [
    "# Determine the number of differences needed for stationarity\n",
    "n_diffs = 0  # Set to 0 since ADF test indicated stationarity\n",
    "print(f'Number of Differences Needed: {n_diffs}')"
   ]
  },
  {
   "cell_type": "code",
   "execution_count": 16,
   "id": "32cd290c",
   "metadata": {},
   "outputs": [
    {
     "data": {
      "image/png": "[encoded data removed]",
      "text/plain": [
       "<Figure size 1500x400 with 1 Axes>"
      ]
     },
     "metadata": {},
     "output_type": "display_data"
    }
   ],
   "source": [
    "# Plot ACF of the original series\n",
    "fig, ax = plt.subplots(figsize=(15, 4))\n",
    "plot_acf(ts['HomeValue'], lags=40, ax=ax, alpha=0.05)\n",
    "plt.show()"
   ]
  },
  {
   "cell_type": "code",
   "execution_count": 17,
   "id": "069963e7",
   "metadata": {},
   "outputs": [
    {
     "data": {
      "image/png": "[encoded data removed]",
      "text/plain": [
       "<Figure size 1500x400 with 1 Axes>"
      ]
     },
     "metadata": {},
     "output_type": "display_data"
    }
   ],
   "source": [
    "# Plot PACF of the original series\n",
    "fig, ax = plt.subplots(figsize=(15, 4))\n",
    "plot_pacf(ts['HomeValue'], lags=40, ax=ax, alpha=0.05)\n",
    "plt.show()"
   ]
  },
  {
   "cell_type": "code",
   "execution_count": 18,
   "id": "565c4fb1",
   "metadata": {},
   "outputs": [
    {
     "data": {
      "image/png": "[encoded data removed]",
      "text/plain": [
       "<Figure size 1200x600 with 1 Axes>"
      ]
     },
     "metadata": {},
     "output_type": "display_data"
    }
   ],
   "source": [
    "# Monthly Home Values Graph\n",
    "monthly_mean = ts['HomeValue'].resample('M').mean()\n",
    "plt.figure(figsize=(12, 6))\n",
    "plt.plot(monthly_mean)\n",
    "plt.title('Monthly Mean Home Values')\n",
    "plt.xlabel('Date')\n",
    "plt.ylabel('Mean Home Value')\n",
    "plt.show()"
   ]
  },
  {
   "cell_type": "code",
   "execution_count": 20,
   "id": "c4a8d130",
   "metadata": {},
   "outputs": [
    {
     "name": "stderr",
     "output_type": "stream",
     "text": [
      "C:\\Users\\James\\anaconda3\\Lib\\site-packages\\statsmodels\\tsa\\base\\tsa_model.py:473: ValueWarning: A date index has been provided, but it has no associated frequency information and so will be ignored when e.g. forecasting.\n",
      "  self._init_dates(dates, freq)\n",
      "C:\\Users\\James\\anaconda3\\Lib\\site-packages\\statsmodels\\tsa\\base\\tsa_model.py:473: ValueWarning: A date index has been provided, but it has no associated frequency information and so will be ignored when e.g. forecasting.\n",
      "  self._init_dates(dates, freq)\n",
      "C:\\Users\\James\\anaconda3\\Lib\\site-packages\\statsmodels\\tsa\\base\\tsa_model.py:473: ValueWarning: A date index has been provided, but it has no associated frequency information and so will be ignored when e.g. forecasting.\n",
      "  self._init_dates(dates, freq)\n",
      "C:\\Users\\James\\anaconda3\\Lib\\site-packages\\statsmodels\\tsa\\base\\tsa_model.py:836: ValueWarning: No supported index is available. Prediction results will be given with an integer index beginning at `start`.\n",
      "  return get_prediction_index(\n",
      "C:\\Users\\James\\anaconda3\\Lib\\site-packages\\statsmodels\\tsa\\base\\tsa_model.py:836: FutureWarning: No supported index is available. In the next version, calling this method in a model without a supported index will result in an exception.\n",
      "  return get_prediction_index(\n"
     ]
    },
    {
     "ename": "AttributeError",
     "evalue": "'PredictionResults' object has no attribute 'index'",
     "output_type": "error",
     "traceback": [
      "\u001b[1;31m---------------------------------------------------------------------------\u001b[0m",
      "\u001b[1;31mAttributeError\u001b[0m                            Traceback (most recent call last)",
      "Cell \u001b[1;32mIn[20], line 21\u001b[0m\n\u001b[0;32m     19\u001b[0m ts[\u001b[38;5;124m'\u001b[39m\u001b[38;5;124mHomeValue\u001b[39m\u001b[38;5;124m'\u001b[39m]\u001b[38;5;241m.\u001b[39mplot(label\u001b[38;5;241m=\u001b[39m\u001b[38;5;124m'\u001b[39m\u001b[38;5;124mObserved Time Series\u001b[39m\u001b[38;5;124m'\u001b[39m)\n\u001b[0;32m     20\u001b[0m forecasts\u001b[38;5;241m.\u001b[39mpredicted_mean\u001b[38;5;241m.\u001b[39mplot(label\u001b[38;5;241m=\u001b[39m\u001b[38;5;124m'\u001b[39m\u001b[38;5;124mForecasted Values\u001b[39m\u001b[38;5;124m'\u001b[39m)\n\u001b[1;32m---> 21\u001b[0m plt\u001b[38;5;241m.\u001b[39mfill_between(forecasts\u001b[38;5;241m.\u001b[39mindex, forecasts\u001b[38;5;241m.\u001b[39mconf_int()[:, \u001b[38;5;241m0\u001b[39m], forecasts\u001b[38;5;241m.\u001b[39mconf_int()[:, \u001b[38;5;241m1\u001b[39m], color\u001b[38;5;241m=\u001b[39m\u001b[38;5;124m'\u001b[39m\u001b[38;5;124mgray\u001b[39m\u001b[38;5;124m'\u001b[39m, alpha\u001b[38;5;241m=\u001b[39m\u001b[38;5;241m0.2\u001b[39m, label\u001b[38;5;241m=\u001b[39m\u001b[38;5;124m'\u001b[39m\u001b[38;5;124mConfidence Interval\u001b[39m\u001b[38;5;124m'\u001b[39m)\n\u001b[0;32m     22\u001b[0m plt\u001b[38;5;241m.\u001b[39mtitle(\u001b[38;5;124m'\u001b[39m\u001b[38;5;124mARIMA Model Forecasting\u001b[39m\u001b[38;5;124m'\u001b[39m)\n\u001b[0;32m     23\u001b[0m plt\u001b[38;5;241m.\u001b[39mxlabel(\u001b[38;5;124m'\u001b[39m\u001b[38;5;124mDate\u001b[39m\u001b[38;5;124m'\u001b[39m)\n",
      "File \u001b[1;32m~\\anaconda3\\Lib\\site-packages\\statsmodels\\base\\wrapper.py:34\u001b[0m, in \u001b[0;36mResultsWrapper.__getattribute__\u001b[1;34m(self, attr)\u001b[0m\n\u001b[0;32m     31\u001b[0m \u001b[38;5;28;01mexcept\u001b[39;00m \u001b[38;5;167;01mAttributeError\u001b[39;00m:\n\u001b[0;32m     32\u001b[0m     \u001b[38;5;28;01mpass\u001b[39;00m\n\u001b[1;32m---> 34\u001b[0m obj \u001b[38;5;241m=\u001b[39m \u001b[38;5;28mgetattr\u001b[39m(results, attr)\n\u001b[0;32m     35\u001b[0m data \u001b[38;5;241m=\u001b[39m results\u001b[38;5;241m.\u001b[39mmodel\u001b[38;5;241m.\u001b[39mdata\n\u001b[0;32m     36\u001b[0m how \u001b[38;5;241m=\u001b[39m \u001b[38;5;28mself\u001b[39m\u001b[38;5;241m.\u001b[39m_wrap_attrs\u001b[38;5;241m.\u001b[39mget(attr)\n",
      "\u001b[1;31mAttributeError\u001b[0m: 'PredictionResults' object has no attribute 'index'"
     ]
    },
    {
     "data": {
      "image/png": "[encoded data removed]",
      "text/plain": [
       "<Figure size 1500x600 with 1 Axes>"
      ]
     },
     "metadata": {},
     "output_type": "display_data"
    }
   ],
   "source": [
    "from statsmodels.tsa.arima.model import ARIMA\n",
    "import matplotlib.pyplot as plt\n",
    "\n",
    "# Assuming you've determined values for p, d, and q\n",
    "p =  1\n",
    "d =  0\n",
    "q =  8\n",
    "\n",
    "# Fit ARIMA model\n",
    "model = ARIMA(ts['HomeValue'], order=(p, d, q))\n",
    "result = model.fit()\n",
    "\n",
    "# Make forecasts for the next 6 months\n",
    "forecast_steps = 6\n",
    "forecasts = result.get_forecast(steps=forecast_steps)\n",
    "\n",
    "# Plot forecasts against the actual values\n",
    "plt.figure(figsize=(15, 6))\n",
    "ts['HomeValue'].plot(label='Observed Time Series')\n",
    "forecasts.predicted_mean.plot(label='Forecasted Values')\n",
    "plt.fill_between(forecasts.index, forecasts.conf_int()[:, 0], forecasts.conf_int()[:, 1], color='gray', alpha=0.2, label='Confidence Interval')\n",
    "plt.title('ARIMA Model Forecasting')\n",
    "plt.xlabel('Date')\n",
    "plt.ylabel('Home Value')\n",
    "plt.legend()\n",
    "plt.show()"
   ]
  },
  {
   "cell_type": "code",
   "execution_count": null,
   "id": "26c88428",
   "metadata": {},
   "outputs": [],
   "source": [
    "get_adfuller_results(ts_home_value)"
   ]
  },
  {
   "cell_type": "code",
   "execution_count": null,
   "id": "39122688",
   "metadata": {},
   "outputs": [],
   "source": [
    "# Plot ACF and PACFada\n",
    "plot_acf_pacf(ts_home_value)"
   ]
  },
  {
   "cell_type": "code",
   "execution_count": null,
   "id": "2bf09cd6",
   "metadata": {},
   "outputs": [],
   "source": [
    "# Determine the number of differences needed\n",
    "d = ndiffs(ts_home_value)\n",
    "print(f'Determined non-seasonal differences (d): {d}')"
   ]
  },
  {
   "cell_type": "code",
   "execution_count": null,
   "id": "31a06981",
   "metadata": {},
   "outputs": [],
   "source": [
    "# Differencing the data once\n",
    "ts_diff = ts_home_value.diff().dropna()\n",
    "ts_diff.plot()\n",
    "# Checking for stationarity\n",
    "get_adfuller_results(ts_diff)"
   ]
  },
  {
   "cell_type": "code",
   "execution_count": null,
   "id": "9a5035e3",
   "metadata": {},
   "outputs": [],
   "source": [
    "plot_acf_pacf(ts_diff);"
   ]
  },
  {
   "cell_type": "code",
   "execution_count": null,
   "id": "68bc7fc7",
   "metadata": {},
   "outputs": [],
   "source": [
    "ts_home_value.info()"
   ]
  },
  {
   "cell_type": "code",
   "execution_count": null,
   "id": "56e88f3d",
   "metadata": {},
   "outputs": [],
   "source": [
    "pip install --upgrade statsmodels"
   ]
  },
  {
   "cell_type": "code",
   "execution_count": null,
   "id": "60b72abd",
   "metadata": {},
   "outputs": [],
   "source": [
    "import pandas as pd\n",
    "import matplotlib.pyplot as plt\n",
    "from statsmodels.tsa.seasonal import seasonal_decompose\n",
    "\n",
    "# Assuming 'ts' is your DataFrame with a DatetimeIndex and 'HomeValue' column\n",
    "# Extract the 'HomeValue' column with non-null values\n",
    "ts_home_value = ts['HomeValue'].dropna()\n",
    "\n",
    "# Apply seasonal decomposition\n",
    "decomp = seasonal_decompose(ts_home_value)\n",
    "\n",
    "# Plot each component separately\n",
    "plt.figure(figsize=(12, 10))\n",
    "\n",
    "plt.subplot(4, 1, 1)\n",
    "plt.plot(decomp.observed)\n",
    "plt.title('Observed')\n",
    "\n",
    "plt.subplot(4, 1, 2)\n",
    "plt.plot(decomp.trend)\n",
    "plt.title('Trend')\n",
    "\n",
    "plt.subplot(4, 1, 3)\n",
    "plt.plot(decomp.seasonal)\n",
    "plt.title('Seasonal')\n",
    "\n",
    "plt.subplot(4, 1, 4)\n",
    "plt.plot(decomp.resid)\n",
    "plt.title('Residual')\n",
    "\n",
    "plt.tight_layout()\n",
    "plt.show()"
   ]
  },
  {
   "cell_type": "code",
   "execution_count": null,
   "id": "393d56de",
   "metadata": {},
   "outputs": [],
   "source": [
    "import pandas as pd\n",
    "from statsmodels.tsa.seasonal import seasonal_decompose\n",
    "\n",
    "# Assuming 'ts' is your DataFrame with a DatetimeIndex and 'HomeValue' column\n",
    "# Extract the 'HomeValue' column with non-null values\n",
    "ts_home_value = ts['HomeValue'].dropna()\n",
    "\n",
    "# Apply seasonal decomposition\n",
    "decomp = seasonal_decompose(ts_home_value)\n",
    "fig = decomp.plot()\n",
    "fig.set_size_inches(12, 5)\n",
    "fig.tight_layout()"
   ]
  },
  {
   "cell_type": "code",
   "execution_count": null,
   "id": "bdd2f32e",
   "metadata": {},
   "outputs": [],
   "source": [
    "# We see a repeating pattern that is likely seasonal\n",
    "# Apply seasonal decomposition\n",
    "decomp = tsa.seasonal_decompose(ts_home_value)\n",
    "fig = decomp.plot()\n",
    "fig.set_size_inches(12,5)\n",
    "fig.tight_layout()"
   ]
  },
  {
   "cell_type": "code",
   "execution_count": null,
   "id": "abbb6cce",
   "metadata": {},
   "outputs": [],
   "source": [
    "ts_home_value.index = pd.to_datetime(ts_home_value.index)\n",
    "ts_home_value = ts_home_value.asfreq('M')"
   ]
  },
  {
   "cell_type": "code",
   "execution_count": null,
   "id": "7b06f62d",
   "metadata": {},
   "outputs": [],
   "source": [
    "# Aggregate values by taking the mean of duplicate timestamps\n",
    "ts_home_value = ts_home_value.groupby('Date').mean()"
   ]
  },
  {
   "cell_type": "code",
   "execution_count": null,
   "id": "5aa0ba73",
   "metadata": {},
   "outputs": [],
   "source": [
    "# Train-test split\n",
    "train_size = int(len(ts) * 0.75)\n",
    "train, test = ts['HomeValue'][:train_size], ts['HomeValue'][train_size:]"
   ]
  },
  {
   "cell_type": "code",
   "execution_count": null,
   "id": "be45ed6b",
   "metadata": {},
   "outputs": [],
   "source": [
    "# Orders for non-seasonal components\n",
    "p = 1\n",
    "d = 1\n",
    "q = 1\n",
    "\n",
    "# Orders for seasonal components\n",
    "P = 1\n",
    "D = 0\n",
    "Q = 1\n",
    "m = 12\n",
    "\n",
    "# Fit SARIMA model\n",
    "sarima = tsa.ARIMA(train, order=(p, d, q), seasonal_order=(P, D, Q, m)).fit()\n",
    "\n",
    "# Obtain summary of forecast as dataframe\n",
    "forecast_df = sarima.get_forecast(len(test)).summary_frame()\n",
    "\n",
    "# Plot the forecast with true values\n",
    "plot_forecast(train, test, forecast_df)\n",
    "# Obtain metrics\n",
    "regression_metrics_ts(test, forecast_df[\"mean\"])\n"
   ]
  },
  {
   "cell_type": "code",
   "execution_count": null,
   "id": "bc6b893a",
   "metadata": {},
   "outputs": [],
   "source": [
    "p_range = range(0, 2)\n",
    "d_range = range(0, 2)\n",
    "q_range = range(0, 2)\n",
    "P_range = range(0, 2)\n",
    "D_range = range(0, 2)\n",
    "Q_range = range(0, 2)\n",
    "m = 12"
   ]
  },
  {
   "cell_type": "code",
   "execution_count": null,
   "id": "7fdeff0a",
   "metadata": {},
   "outputs": [],
   "source": [
    "pip install pmdarima"
   ]
  },
  {
   "cell_type": "code",
   "execution_count": null,
   "id": "c0044995",
   "metadata": {},
   "outputs": [],
   "source": [
    "from sklearn.model_selection import RandomizedSearchCV\n",
    "from pmdarima import ARIMA\n",
    "\n",
    "# Define the parameter distributions\n",
    "param_dist = {\n",
    "    'order': [(p, d, q) for p in p_range for d in d_range for q in q_range],\n",
    "    'seasonal_order': [(P, D, Q, m) for P in P_range for D in D_range for Q in Q_range]\n",
    "}\n",
    "\n",
    "# Create a randomized search\n",
    "random_search = RandomizedSearchCV(\n",
    "    ARIMA(),\n",
    "    param_distributions=param_dist,\n",
    "    n_iter=10,  # Adjust the number of iterations\n",
    "    scoring='aic',  # Use AIC as the scoring metric\n",
    "    cv=5,  # Adjust the number of cross-validation folds\n",
    "    verbose=1,\n",
    "    n_jobs=-1\n",
    ")\n",
    "\n",
    "# Fit the randomized search\n",
    "random_search.fit(train)"
   ]
  },
  {
   "cell_type": "code",
   "execution_count": null,
   "id": "e819f480",
   "metadata": {},
   "outputs": [],
   "source": [
    "from sklearn.model_selection import RandomizedSearchCV\n",
    "\n",
    "# Define the parameter distributions\n",
    "param_dist = {\n",
    "    'order': [(p, d, q) for p in p_range for d in d_range for q in q_range],\n",
    "    'seasonal_order': [(P, D, Q, m) for P in P_range for D in D_range for Q in Q_range]\n",
    "}\n",
    "\n",
    "# Create a randomized search\n",
    "random_search = RandomizedSearchCV(\n",
    "    pm.ARIMA(),\n",
    "    param_distributions=param_dist,\n",
    "    n_iter=10,  # Adjust the number of iterations\n",
    "    scoring='aic',  # Use AIC as the scoring metric\n",
    "    cv=5,  # Adjust the number of cross-validation folds\n",
    "    verbose=1,\n",
    "    n_jobs=-1\n",
    ")\n",
    "\n",
    "# Fit the randomized search\n",
    "random_search.fit(train)\n"
   ]
  }
 ],
 "metadata": {
  "kernelspec": {
   "display_name": "Python (dojo-env)",
   "language": "python",
   "name": "dojo-env"
  },
  "language_info": {
   "codemirror_mode": {
    "name": "ipython",
    "version": 3
   },
   "file_extension": ".py",
   "mimetype": "text/x-python",
   "name": "python",
   "nbconvert_exporter": "python",
   "pygments_lexer": "ipython3",
   "version": "3.11.5"
  }
 },
 "nbformat": 4,
 "nbformat_minor": 5
}
