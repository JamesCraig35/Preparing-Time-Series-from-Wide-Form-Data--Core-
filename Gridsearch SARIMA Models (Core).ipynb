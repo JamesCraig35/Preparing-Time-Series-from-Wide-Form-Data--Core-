{
 "cells": [
  {
   "cell_type": "markdown",
   "id": "17eead9e",
   "metadata": {},
   "source": [
    "Loading in Data and custom functions"
   ]
  },
  {
   "cell_type": "code",
   "execution_count": 1,
   "id": "2522f567",
   "metadata": {},
   "outputs": [],
   "source": [
    "# imports\n",
    "import pandas as pd\n",
    "import numpy as np\n",
    "import matplotlib.pyplot as plt\n",
    "from pmdarima.arima.utils import ndiffs, nsdiffs\n",
    "from statsmodels.tsa.stattools import adfuller\n",
    "from statsmodels.graphics.tsaplots import plot_acf, plot_pacf\n",
    "from statsmodels.tsa.arima.model import ARIMA\n",
    "import statsmodels.api as sm\n",
    "from sklearn.model_selection import TimeSeriesSplit\n",
    "from sklearn.metrics import mean_absolute_error, mean_squared_error, r2_score, mean_absolute_percentage_error\n",
    "from datetime import timedelta\n",
    "import statsmodels.tsa.api as tsa\n",
    "from pmdarima.model_selection import train_test_split\n",
    "from statsmodels.tsa.seasonal import seasonal_decompose\n",
    "import pmdarima as pm\n",
    "import itertools"
   ]
  },
  {
   "cell_type": "code",
   "execution_count": 2,
   "id": "972b3c04",
   "metadata": {},
   "outputs": [
    {
     "data": {
      "text/html": [
       "<div>\n",
       "<style scoped>\n",
       "    .dataframe tbody tr th:only-of-type {\n",
       "        vertical-align: middle;\n",
       "    }\n",
       "\n",
       "    .dataframe tbody tr th {\n",
       "        vertical-align: top;\n",
       "    }\n",
       "\n",
       "    .dataframe thead th {\n",
       "        text-align: right;\n",
       "    }\n",
       "</style>\n",
       "<table border=\"1\" class=\"dataframe\">\n",
       "  <thead>\n",
       "    <tr style=\"text-align: right;\">\n",
       "      <th></th>\n",
       "      <th>RegionID</th>\n",
       "      <th>SizeRank</th>\n",
       "      <th>RegionName</th>\n",
       "      <th>RegionType</th>\n",
       "      <th>StateName</th>\n",
       "      <th>State</th>\n",
       "      <th>Metro</th>\n",
       "      <th>CountyName</th>\n",
       "      <th>2000-01-31</th>\n",
       "      <th>2000-02-29</th>\n",
       "      <th>...</th>\n",
       "      <th>2021-12-31</th>\n",
       "      <th>2022-01-31</th>\n",
       "      <th>2022-02-28</th>\n",
       "      <th>2022-03-31</th>\n",
       "      <th>2022-04-30</th>\n",
       "      <th>2022-05-31</th>\n",
       "      <th>2022-06-30</th>\n",
       "      <th>2022-07-31</th>\n",
       "      <th>2022-08-31</th>\n",
       "      <th>2022-09-30</th>\n",
       "    </tr>\n",
       "  </thead>\n",
       "  <tbody>\n",
       "    <tr>\n",
       "      <th>0</th>\n",
       "      <td>6181</td>\n",
       "      <td>0</td>\n",
       "      <td>New York</td>\n",
       "      <td>city</td>\n",
       "      <td>NY</td>\n",
       "      <td>NY</td>\n",
       "      <td>New York-Newark-Jersey City, NY-NJ-PA</td>\n",
       "      <td>Queens County</td>\n",
       "      <td>253690.0</td>\n",
       "      <td>255517.0</td>\n",
       "      <td>...</td>\n",
       "      <td>741586.0</td>\n",
       "      <td>745686.0</td>\n",
       "      <td>750578.0</td>\n",
       "      <td>756734.0</td>\n",
       "      <td>762321.0</td>\n",
       "      <td>768797.0</td>\n",
       "      <td>773944.0</td>\n",
       "      <td>777692.0</td>\n",
       "      <td>779960.0</td>\n",
       "      <td>781622.0</td>\n",
       "    </tr>\n",
       "    <tr>\n",
       "      <th>1</th>\n",
       "      <td>12447</td>\n",
       "      <td>1</td>\n",
       "      <td>Los Angeles</td>\n",
       "      <td>city</td>\n",
       "      <td>CA</td>\n",
       "      <td>CA</td>\n",
       "      <td>Los Angeles-Long Beach-Anaheim, CA</td>\n",
       "      <td>Los Angeles County</td>\n",
       "      <td>234181.0</td>\n",
       "      <td>234401.0</td>\n",
       "      <td>...</td>\n",
       "      <td>924019.0</td>\n",
       "      <td>928991.0</td>\n",
       "      <td>937936.0</td>\n",
       "      <td>953874.0</td>\n",
       "      <td>973168.0</td>\n",
       "      <td>990391.0</td>\n",
       "      <td>992337.0</td>\n",
       "      <td>992630.0</td>\n",
       "      <td>978196.0</td>\n",
       "      <td>966595.0</td>\n",
       "    </tr>\n",
       "    <tr>\n",
       "      <th>2</th>\n",
       "      <td>39051</td>\n",
       "      <td>2</td>\n",
       "      <td>Houston</td>\n",
       "      <td>city</td>\n",
       "      <td>TX</td>\n",
       "      <td>TX</td>\n",
       "      <td>Houston-The Woodlands-Sugar Land, TX</td>\n",
       "      <td>Harris County</td>\n",
       "      <td>109068.0</td>\n",
       "      <td>109079.0</td>\n",
       "      <td>...</td>\n",
       "      <td>245783.0</td>\n",
       "      <td>248718.0</td>\n",
       "      <td>252080.0</td>\n",
       "      <td>256435.0</td>\n",
       "      <td>261101.0</td>\n",
       "      <td>265558.0</td>\n",
       "      <td>268901.0</td>\n",
       "      <td>271059.0</td>\n",
       "      <td>272400.0</td>\n",
       "      <td>272639.0</td>\n",
       "    </tr>\n",
       "    <tr>\n",
       "      <th>3</th>\n",
       "      <td>17426</td>\n",
       "      <td>3</td>\n",
       "      <td>Chicago</td>\n",
       "      <td>city</td>\n",
       "      <td>IL</td>\n",
       "      <td>IL</td>\n",
       "      <td>Chicago-Naperville-Elgin, IL-IN-WI</td>\n",
       "      <td>Cook County</td>\n",
       "      <td>166139.0</td>\n",
       "      <td>166536.0</td>\n",
       "      <td>...</td>\n",
       "      <td>302821.0</td>\n",
       "      <td>305104.0</td>\n",
       "      <td>306404.0</td>\n",
       "      <td>308303.0</td>\n",
       "      <td>309649.0</td>\n",
       "      <td>312487.0</td>\n",
       "      <td>314663.0</td>\n",
       "      <td>315910.0</td>\n",
       "      <td>315587.0</td>\n",
       "      <td>315429.0</td>\n",
       "    </tr>\n",
       "    <tr>\n",
       "      <th>4</th>\n",
       "      <td>6915</td>\n",
       "      <td>4</td>\n",
       "      <td>San Antonio</td>\n",
       "      <td>city</td>\n",
       "      <td>TX</td>\n",
       "      <td>TX</td>\n",
       "      <td>San Antonio-New Braunfels, TX</td>\n",
       "      <td>Bexar County</td>\n",
       "      <td>114794.0</td>\n",
       "      <td>114975.0</td>\n",
       "      <td>...</td>\n",
       "      <td>269323.0</td>\n",
       "      <td>274032.0</td>\n",
       "      <td>278464.0</td>\n",
       "      <td>284127.0</td>\n",
       "      <td>289739.0</td>\n",
       "      <td>294776.0</td>\n",
       "      <td>297727.0</td>\n",
       "      <td>298796.0</td>\n",
       "      <td>299124.0</td>\n",
       "      <td>298951.0</td>\n",
       "    </tr>\n",
       "  </tbody>\n",
       "</table>\n",
       "<p>5 rows × 281 columns</p>\n",
       "</div>"
      ],
      "text/plain": [
       "   RegionID  SizeRank   RegionName RegionType StateName State  \\\n",
       "0      6181         0     New York       city        NY    NY   \n",
       "1     12447         1  Los Angeles       city        CA    CA   \n",
       "2     39051         2      Houston       city        TX    TX   \n",
       "3     17426         3      Chicago       city        IL    IL   \n",
       "4      6915         4  San Antonio       city        TX    TX   \n",
       "\n",
       "                                   Metro          CountyName  2000-01-31  \\\n",
       "0  New York-Newark-Jersey City, NY-NJ-PA       Queens County    253690.0   \n",
       "1     Los Angeles-Long Beach-Anaheim, CA  Los Angeles County    234181.0   \n",
       "2   Houston-The Woodlands-Sugar Land, TX       Harris County    109068.0   \n",
       "3     Chicago-Naperville-Elgin, IL-IN-WI         Cook County    166139.0   \n",
       "4          San Antonio-New Braunfels, TX        Bexar County    114794.0   \n",
       "\n",
       "   2000-02-29  ...  2021-12-31  2022-01-31  2022-02-28  2022-03-31  \\\n",
       "0    255517.0  ...    741586.0    745686.0    750578.0    756734.0   \n",
       "1    234401.0  ...    924019.0    928991.0    937936.0    953874.0   \n",
       "2    109079.0  ...    245783.0    248718.0    252080.0    256435.0   \n",
       "3    166536.0  ...    302821.0    305104.0    306404.0    308303.0   \n",
       "4    114975.0  ...    269323.0    274032.0    278464.0    284127.0   \n",
       "\n",
       "   2022-04-30  2022-05-31  2022-06-30  2022-07-31  2022-08-31  2022-09-30  \n",
       "0    762321.0    768797.0    773944.0    777692.0    779960.0    781622.0  \n",
       "1    973168.0    990391.0    992337.0    992630.0    978196.0    966595.0  \n",
       "2    261101.0    265558.0    268901.0    271059.0    272400.0    272639.0  \n",
       "3    309649.0    312487.0    314663.0    315910.0    315587.0    315429.0  \n",
       "4    289739.0    294776.0    297727.0    298796.0    299124.0    298951.0  \n",
       "\n",
       "[5 rows x 281 columns]"
      ]
     },
     "execution_count": 2,
     "metadata": {},
     "output_type": "execute_result"
    }
   ],
   "source": [
    "# Load the Zillow dataset\n",
    "url = \"https://docs.google.com/spreadsheets/d/e/2PACX-1vQN3Ksa9szQuO4G1-msXWAp17KtVHQCBnuEieu_auu1wSiBf3-krHusIx5VBMkihxj-KZLBosDIGEyR/pub?output=csv\"\n",
    "ts = pd.read_csv(url)\n",
    "ts.head(5)"
   ]
  },
  {
   "cell_type": "code",
   "execution_count": 3,
   "id": "f8add35a",
   "metadata": {},
   "outputs": [],
   "source": [
    "def plot_forecast(ts_train, ts_test, forecast_df, n_train_lags=None, \n",
    "                  figsize=(10,4), title='Comparing Forecast vs. True Data'):\n",
    "    ### PLot training data, and forecast (with upper/,lower ci)\n",
    "    fig, ax = plt.subplots(figsize=figsize)\n",
    "\n",
    "    # setting the number of train lags to plot if not specified\n",
    "    if n_train_lags==None:\n",
    "        n_train_lags = len(ts_train)\n",
    "            \n",
    "    # Plotting Training  and test data\n",
    "    ts_train.iloc[-n_train_lags:].plot(ax=ax, label=\"train\")\n",
    "    ts_test.plot(label=\"test\", ax=ax)\n",
    "\n",
    "    # Plot forecast\n",
    "    forecast_df['mean'].plot(ax=ax, color='green', label=\"forecast\")\n",
    "\n",
    "    # Add the shaded confidence interval\n",
    "    ax.fill_between(forecast_df.index, \n",
    "                    forecast_df['mean_ci_lower'],\n",
    "                   forecast_df['mean_ci_upper'],\n",
    "                   color='green', alpha=0.3,  lw=2)\n",
    "\n",
    "    # set the title and add legend\n",
    "    ax.set_title(title)\n",
    "    ax.legend();\n",
    "    \n",
    "    return fig, ax"
   ]
  },
  {
   "cell_type": "code",
   "execution_count": 4,
   "id": "b5a5721b",
   "metadata": {},
   "outputs": [],
   "source": [
    "# Custom function for Ad Fuller Test\n",
    "def get_adfuller_results(ts, alpha=.05, label='adfuller', **kwargs): #kwargs for adfuller()\n",
    "    # Saving each output\n",
    "    (test_stat, pval, nlags, nobs, crit_vals_d, \n",
    "    icbest ) = tsa.adfuller(ts, **kwargs)\n",
    "    # Converting output to a dictionary with the interpretation of p\n",
    "    adfuller_results = {'Test Statistic': test_stat,\n",
    "                        \"# of Lags Used\":nlags, \n",
    "                       '# of Observations':nobs,\n",
    "                        'p-value': round(pval,6),\n",
    "                        'alpha': alpha,\n",
    "                       'sig/stationary?': pval < alpha}\n",
    "    return pd.DataFrame(adfuller_results, index =[label])"
   ]
  },
  {
   "cell_type": "code",
   "execution_count": 5,
   "id": "94d843c8",
   "metadata": {},
   "outputs": [],
   "source": [
    "def regression_metrics_ts(ts_true, ts_pred, label=\"\", verbose=True, output_dict=False,):\n",
    "    # Get metrics\n",
    "    mae = mean_absolute_error(ts_true, ts_pred)\n",
    "    mse = mean_squared_error(ts_true, ts_pred)\n",
    "    rmse = mean_squared_error(ts_true, ts_pred, squared=False)\n",
    "    r_squared = r2_score(ts_true, ts_pred)\n",
    "    mae_perc = mean_absolute_percentage_error(ts_true, ts_pred) * 100\n",
    "\n",
    "    if verbose == True:\n",
    "        # Print Result with label\n",
    "        header = \"---\" * 20\n",
    "        print(header, f\"Regression Metrics: {label}\", header, sep=\"\\n\")\n",
    "        print(f\"- MAE = {mae:,.3f}\")\n",
    "        print(f\"- MSE = {mse:,.3f}\")\n",
    "        print(f\"- RMSE = {rmse:,.3f}\")\n",
    "        print(f\"- R^2 = {r_squared:,.3f}\")\n",
    "        print(f\"- MAPE = {mae_perc:,.2f}%\")\n",
    "\n",
    "    if output_dict == True:\n",
    "        metrics = {\n",
    "            \"Label\": label,\n",
    "            \"MAE\": mae,\n",
    "            \"MSE\": mse,\n",
    "            \"RMSE\": rmse,\n",
    "            \"R^2\": r_squared,\n",
    "            \"MAPE(%)\": mae_perc,\n",
    "        }\n",
    "        return metrics"
   ]
  },
  {
   "cell_type": "code",
   "execution_count": 6,
   "id": "f0bd07d0",
   "metadata": {},
   "outputs": [],
   "source": [
    "def plot_acf_pacf(ts, nlags=40, figsize=(10, 5), \n",
    "                  annotate_sig=False, alpha=.05,\n",
    "                 acf_kws={}, pacf_kws={},  \n",
    "                  annotate_seas=False, m = None,\n",
    "                 seas_color='black'):\n",
    "    \n",
    "    fig, axes = plt.subplots(nrows=2, figsize=figsize)\n",
    "\n",
    "    \n",
    "    # Sig lags line style\n",
    "    sig_vline_kwargs = dict( ls=':', lw=1, zorder=0, color='red')\n",
    "\n",
    "    # ACF\n",
    "    tsa.graphics.plot_acf(ts, ax=axes[0], lags=nlags, **acf_kws)\n",
    "    \n",
    "    ## Annotating sig acf lags\n",
    "    if annotate_sig == True:\n",
    "        sig_acf_lags = get_sig_lags(ts,nlags=nlags,alpha=alpha, type='ACF')\n",
    "        for lag in sig_acf_lags:\n",
    "            axes[0].axvline(lag,label='sig', **sig_vline_kwargs )\n",
    "\n",
    "    # PACF\n",
    "    tsa.graphics.plot_pacf(ts,ax=axes[1], lags=nlags, **pacf_kws)\n",
    "    \n",
    "    ## Annotating sig pacf lags\n",
    "    if annotate_sig == True:\n",
    "        ## ANNOTATING SIG LAGS\n",
    "        sig_pacf_lags = get_sig_lags(ts,nlags=nlags,alpha=alpha, type='PACF')\n",
    "        for lag in sig_pacf_lags:\n",
    "            axes[1].axvline(lag, label='sig', **sig_vline_kwargs)\n",
    "\n",
    "\n",
    "\n",
    "    \n",
    "    ### ANNOTATE SEASONS\n",
    "    if annotate_seas == True:\n",
    "        # Ensure m was defined\n",
    "        if m is None:\n",
    "            raise Exception(\"Must define value of m if annotate_seas=True.\")\n",
    "\n",
    "        ## Calculate number of complete seasons to annotate\n",
    "        n_seasons = nlags//m \n",
    "\n",
    "        # Seasonal Lines style\n",
    "        seas_vline_kwargs = dict( ls='--',lw=1, alpha=.7, color=seas_color, zorder=-1)\n",
    "        \n",
    "        ## for each season, add a line\n",
    "        for i in range(1, n_seasons+1):\n",
    "            axes[0].axvline(m*i, **seas_vline_kwargs, label=\"season\")\n",
    "            axes[1].axvline(m*i, **seas_vline_kwargs, label=\"season\")\n",
    "\n",
    "    fig.tight_layout()\n",
    "    \n",
    "    return fig"
   ]
  },
  {
   "cell_type": "markdown",
   "id": "ee4af8c3",
   "metadata": {},
   "source": [
    "Filtering Dataset"
   ]
  },
  {
   "cell_type": "code",
   "execution_count": 7,
   "id": "70d463ed",
   "metadata": {},
   "outputs": [
    {
     "name": "stdout",
     "output_type": "stream",
     "text": [
      "<class 'pandas.core.frame.DataFrame'>\n",
      "RangeIndex: 22467 entries, 0 to 22466\n",
      "Columns: 281 entries, RegionID to 2022-09-30\n",
      "dtypes: float64(273), int64(2), object(6)\n",
      "memory usage: 48.2+ MB\n"
     ]
    }
   ],
   "source": [
    "ts.info()"
   ]
  },
  {
   "cell_type": "code",
   "execution_count": 8,
   "id": "7cbf8fb5",
   "metadata": {},
   "outputs": [
    {
     "data": {
      "text/html": [
       "<div>\n",
       "<style scoped>\n",
       "    .dataframe tbody tr th:only-of-type {\n",
       "        vertical-align: middle;\n",
       "    }\n",
       "\n",
       "    .dataframe tbody tr th {\n",
       "        vertical-align: top;\n",
       "    }\n",
       "\n",
       "    .dataframe thead th {\n",
       "        text-align: right;\n",
       "    }\n",
       "</style>\n",
       "<table border=\"1\" class=\"dataframe\">\n",
       "  <thead>\n",
       "    <tr style=\"text-align: right;\">\n",
       "      <th></th>\n",
       "      <th>RegionID</th>\n",
       "      <th>SizeRank</th>\n",
       "      <th>RegionName</th>\n",
       "      <th>RegionType</th>\n",
       "      <th>StateName</th>\n",
       "      <th>State</th>\n",
       "      <th>Metro</th>\n",
       "      <th>CountyName</th>\n",
       "      <th>2000-01-31</th>\n",
       "      <th>2000-02-29</th>\n",
       "      <th>...</th>\n",
       "      <th>2021-12-31</th>\n",
       "      <th>2022-01-31</th>\n",
       "      <th>2022-02-28</th>\n",
       "      <th>2022-03-31</th>\n",
       "      <th>2022-04-30</th>\n",
       "      <th>2022-05-31</th>\n",
       "      <th>2022-06-30</th>\n",
       "      <th>2022-07-31</th>\n",
       "      <th>2022-08-31</th>\n",
       "      <th>2022-09-30</th>\n",
       "    </tr>\n",
       "  </thead>\n",
       "  <tbody>\n",
       "    <tr>\n",
       "      <th>0</th>\n",
       "      <td>6181</td>\n",
       "      <td>0</td>\n",
       "      <td>New York</td>\n",
       "      <td>city</td>\n",
       "      <td>NY</td>\n",
       "      <td>NY</td>\n",
       "      <td>New York-Newark-Jersey City, NY-NJ-PA</td>\n",
       "      <td>Queens County</td>\n",
       "      <td>253690.0</td>\n",
       "      <td>255517.0</td>\n",
       "      <td>...</td>\n",
       "      <td>741586.0</td>\n",
       "      <td>745686.0</td>\n",
       "      <td>750578.0</td>\n",
       "      <td>756734.0</td>\n",
       "      <td>762321.0</td>\n",
       "      <td>768797.0</td>\n",
       "      <td>773944.0</td>\n",
       "      <td>777692.0</td>\n",
       "      <td>779960.0</td>\n",
       "      <td>781622.0</td>\n",
       "    </tr>\n",
       "    <tr>\n",
       "      <th>1</th>\n",
       "      <td>12447</td>\n",
       "      <td>1</td>\n",
       "      <td>Los Angeles</td>\n",
       "      <td>city</td>\n",
       "      <td>CA</td>\n",
       "      <td>CA</td>\n",
       "      <td>Los Angeles-Long Beach-Anaheim, CA</td>\n",
       "      <td>Los Angeles County</td>\n",
       "      <td>234181.0</td>\n",
       "      <td>234401.0</td>\n",
       "      <td>...</td>\n",
       "      <td>924019.0</td>\n",
       "      <td>928991.0</td>\n",
       "      <td>937936.0</td>\n",
       "      <td>953874.0</td>\n",
       "      <td>973168.0</td>\n",
       "      <td>990391.0</td>\n",
       "      <td>992337.0</td>\n",
       "      <td>992630.0</td>\n",
       "      <td>978196.0</td>\n",
       "      <td>966595.0</td>\n",
       "    </tr>\n",
       "    <tr>\n",
       "      <th>2</th>\n",
       "      <td>39051</td>\n",
       "      <td>2</td>\n",
       "      <td>Houston</td>\n",
       "      <td>city</td>\n",
       "      <td>TX</td>\n",
       "      <td>TX</td>\n",
       "      <td>Houston-The Woodlands-Sugar Land, TX</td>\n",
       "      <td>Harris County</td>\n",
       "      <td>109068.0</td>\n",
       "      <td>109079.0</td>\n",
       "      <td>...</td>\n",
       "      <td>245783.0</td>\n",
       "      <td>248718.0</td>\n",
       "      <td>252080.0</td>\n",
       "      <td>256435.0</td>\n",
       "      <td>261101.0</td>\n",
       "      <td>265558.0</td>\n",
       "      <td>268901.0</td>\n",
       "      <td>271059.0</td>\n",
       "      <td>272400.0</td>\n",
       "      <td>272639.0</td>\n",
       "    </tr>\n",
       "    <tr>\n",
       "      <th>3</th>\n",
       "      <td>17426</td>\n",
       "      <td>3</td>\n",
       "      <td>Chicago</td>\n",
       "      <td>city</td>\n",
       "      <td>IL</td>\n",
       "      <td>IL</td>\n",
       "      <td>Chicago-Naperville-Elgin, IL-IN-WI</td>\n",
       "      <td>Cook County</td>\n",
       "      <td>166139.0</td>\n",
       "      <td>166536.0</td>\n",
       "      <td>...</td>\n",
       "      <td>302821.0</td>\n",
       "      <td>305104.0</td>\n",
       "      <td>306404.0</td>\n",
       "      <td>308303.0</td>\n",
       "      <td>309649.0</td>\n",
       "      <td>312487.0</td>\n",
       "      <td>314663.0</td>\n",
       "      <td>315910.0</td>\n",
       "      <td>315587.0</td>\n",
       "      <td>315429.0</td>\n",
       "    </tr>\n",
       "    <tr>\n",
       "      <th>4</th>\n",
       "      <td>6915</td>\n",
       "      <td>4</td>\n",
       "      <td>San Antonio</td>\n",
       "      <td>city</td>\n",
       "      <td>TX</td>\n",
       "      <td>TX</td>\n",
       "      <td>San Antonio-New Braunfels, TX</td>\n",
       "      <td>Bexar County</td>\n",
       "      <td>114794.0</td>\n",
       "      <td>114975.0</td>\n",
       "      <td>...</td>\n",
       "      <td>269323.0</td>\n",
       "      <td>274032.0</td>\n",
       "      <td>278464.0</td>\n",
       "      <td>284127.0</td>\n",
       "      <td>289739.0</td>\n",
       "      <td>294776.0</td>\n",
       "      <td>297727.0</td>\n",
       "      <td>298796.0</td>\n",
       "      <td>299124.0</td>\n",
       "      <td>298951.0</td>\n",
       "    </tr>\n",
       "  </tbody>\n",
       "</table>\n",
       "<p>5 rows × 281 columns</p>\n",
       "</div>"
      ],
      "text/plain": [
       "   RegionID  SizeRank   RegionName RegionType StateName State  \\\n",
       "0      6181         0     New York       city        NY    NY   \n",
       "1     12447         1  Los Angeles       city        CA    CA   \n",
       "2     39051         2      Houston       city        TX    TX   \n",
       "3     17426         3      Chicago       city        IL    IL   \n",
       "4      6915         4  San Antonio       city        TX    TX   \n",
       "\n",
       "                                   Metro          CountyName  2000-01-31  \\\n",
       "0  New York-Newark-Jersey City, NY-NJ-PA       Queens County    253690.0   \n",
       "1     Los Angeles-Long Beach-Anaheim, CA  Los Angeles County    234181.0   \n",
       "2   Houston-The Woodlands-Sugar Land, TX       Harris County    109068.0   \n",
       "3     Chicago-Naperville-Elgin, IL-IN-WI         Cook County    166139.0   \n",
       "4          San Antonio-New Braunfels, TX        Bexar County    114794.0   \n",
       "\n",
       "   2000-02-29  ...  2021-12-31  2022-01-31  2022-02-28  2022-03-31  \\\n",
       "0    255517.0  ...    741586.0    745686.0    750578.0    756734.0   \n",
       "1    234401.0  ...    924019.0    928991.0    937936.0    953874.0   \n",
       "2    109079.0  ...    245783.0    248718.0    252080.0    256435.0   \n",
       "3    166536.0  ...    302821.0    305104.0    306404.0    308303.0   \n",
       "4    114975.0  ...    269323.0    274032.0    278464.0    284127.0   \n",
       "\n",
       "   2022-04-30  2022-05-31  2022-06-30  2022-07-31  2022-08-31  2022-09-30  \n",
       "0    762321.0    768797.0    773944.0    777692.0    779960.0    781622.0  \n",
       "1    973168.0    990391.0    992337.0    992630.0    978196.0    966595.0  \n",
       "2    261101.0    265558.0    268901.0    271059.0    272400.0    272639.0  \n",
       "3    309649.0    312487.0    314663.0    315910.0    315587.0    315429.0  \n",
       "4    289739.0    294776.0    297727.0    298796.0    299124.0    298951.0  \n",
       "\n",
       "[5 rows x 281 columns]"
      ]
     },
     "execution_count": 8,
     "metadata": {},
     "output_type": "execute_result"
    }
   ],
   "source": [
    "ts.head(5)"
   ]
  },
  {
   "cell_type": "code",
   "execution_count": 9,
   "id": "aa00fd81",
   "metadata": {},
   "outputs": [
    {
     "data": {
      "text/html": [
       "<div>\n",
       "<style scoped>\n",
       "    .dataframe tbody tr th:only-of-type {\n",
       "        vertical-align: middle;\n",
       "    }\n",
       "\n",
       "    .dataframe tbody tr th {\n",
       "        vertical-align: top;\n",
       "    }\n",
       "\n",
       "    .dataframe thead th {\n",
       "        text-align: right;\n",
       "    }\n",
       "</style>\n",
       "<table border=\"1\" class=\"dataframe\">\n",
       "  <thead>\n",
       "    <tr style=\"text-align: right;\">\n",
       "      <th></th>\n",
       "      <th>RegionID</th>\n",
       "      <th>SizeRank</th>\n",
       "      <th>RegionName</th>\n",
       "      <th>RegionType</th>\n",
       "      <th>StateName</th>\n",
       "      <th>State</th>\n",
       "      <th>Metro</th>\n",
       "      <th>CountyName</th>\n",
       "      <th>Date</th>\n",
       "      <th>HomeValue</th>\n",
       "    </tr>\n",
       "  </thead>\n",
       "  <tbody>\n",
       "    <tr>\n",
       "      <th>0</th>\n",
       "      <td>6181</td>\n",
       "      <td>0</td>\n",
       "      <td>New York</td>\n",
       "      <td>city</td>\n",
       "      <td>NY</td>\n",
       "      <td>NY</td>\n",
       "      <td>New York-Newark-Jersey City, NY-NJ-PA</td>\n",
       "      <td>Queens County</td>\n",
       "      <td>2000-01-31</td>\n",
       "      <td>253690.0</td>\n",
       "    </tr>\n",
       "    <tr>\n",
       "      <th>1</th>\n",
       "      <td>12447</td>\n",
       "      <td>1</td>\n",
       "      <td>Los Angeles</td>\n",
       "      <td>city</td>\n",
       "      <td>CA</td>\n",
       "      <td>CA</td>\n",
       "      <td>Los Angeles-Long Beach-Anaheim, CA</td>\n",
       "      <td>Los Angeles County</td>\n",
       "      <td>2000-01-31</td>\n",
       "      <td>234181.0</td>\n",
       "    </tr>\n",
       "    <tr>\n",
       "      <th>2</th>\n",
       "      <td>39051</td>\n",
       "      <td>2</td>\n",
       "      <td>Houston</td>\n",
       "      <td>city</td>\n",
       "      <td>TX</td>\n",
       "      <td>TX</td>\n",
       "      <td>Houston-The Woodlands-Sugar Land, TX</td>\n",
       "      <td>Harris County</td>\n",
       "      <td>2000-01-31</td>\n",
       "      <td>109068.0</td>\n",
       "    </tr>\n",
       "    <tr>\n",
       "      <th>3</th>\n",
       "      <td>17426</td>\n",
       "      <td>3</td>\n",
       "      <td>Chicago</td>\n",
       "      <td>city</td>\n",
       "      <td>IL</td>\n",
       "      <td>IL</td>\n",
       "      <td>Chicago-Naperville-Elgin, IL-IN-WI</td>\n",
       "      <td>Cook County</td>\n",
       "      <td>2000-01-31</td>\n",
       "      <td>166139.0</td>\n",
       "    </tr>\n",
       "    <tr>\n",
       "      <th>4</th>\n",
       "      <td>6915</td>\n",
       "      <td>4</td>\n",
       "      <td>San Antonio</td>\n",
       "      <td>city</td>\n",
       "      <td>TX</td>\n",
       "      <td>TX</td>\n",
       "      <td>San Antonio-New Braunfels, TX</td>\n",
       "      <td>Bexar County</td>\n",
       "      <td>2000-01-31</td>\n",
       "      <td>114794.0</td>\n",
       "    </tr>\n",
       "  </tbody>\n",
       "</table>\n",
       "</div>"
      ],
      "text/plain": [
       "   RegionID  SizeRank   RegionName RegionType StateName State  \\\n",
       "0      6181         0     New York       city        NY    NY   \n",
       "1     12447         1  Los Angeles       city        CA    CA   \n",
       "2     39051         2      Houston       city        TX    TX   \n",
       "3     17426         3      Chicago       city        IL    IL   \n",
       "4      6915         4  San Antonio       city        TX    TX   \n",
       "\n",
       "                                   Metro          CountyName        Date  \\\n",
       "0  New York-Newark-Jersey City, NY-NJ-PA       Queens County  2000-01-31   \n",
       "1     Los Angeles-Long Beach-Anaheim, CA  Los Angeles County  2000-01-31   \n",
       "2   Houston-The Woodlands-Sugar Land, TX       Harris County  2000-01-31   \n",
       "3     Chicago-Naperville-Elgin, IL-IN-WI         Cook County  2000-01-31   \n",
       "4          San Antonio-New Braunfels, TX        Bexar County  2000-01-31   \n",
       "\n",
       "   HomeValue  \n",
       "0   253690.0  \n",
       "1   234181.0  \n",
       "2   109068.0  \n",
       "3   166139.0  \n",
       "4   114794.0  "
      ]
     },
     "execution_count": 9,
     "metadata": {},
     "output_type": "execute_result"
    }
   ],
   "source": [
    "# Melt the DataFrame to reshape it to long format\n",
    "ts = pd.melt(ts, id_vars=['RegionID', 'SizeRank', 'RegionName', 'RegionType', 'StateName', 'State', 'Metro', 'CountyName'], var_name='Date', value_name='HomeValue')\n",
    "ts.head(5)"
   ]
  },
  {
   "cell_type": "code",
   "execution_count": 10,
   "id": "24098411",
   "metadata": {},
   "outputs": [],
   "source": [
    "# Setting datetime index\n",
    "ts['Date'] = pd.to_datetime(ts['Date'], errors='coerce')\n",
    "ts.set_index('Date', inplace=True)"
   ]
  },
  {
   "cell_type": "code",
   "execution_count": 11,
   "id": "7342f714",
   "metadata": {},
   "outputs": [
    {
     "data": {
      "text/plain": [
       "Metro\n",
       "New York-Newark-Jersey City, NY-NJ-PA           135408\n",
       "Chicago-Naperville-Elgin, IL-IN-WI               97461\n",
       "St. Louis, MO-IL                                 70980\n",
       "Washington-Arlington-Alexandria, DC-VA-MD-WV     66339\n",
       "Philadelphia-Camden-Wilmington, PA-NJ-DE-MD      64974\n",
       "                                                 ...  \n",
       "Deming, NM                                         273\n",
       "Lamesa, TX                                         273\n",
       "Carson City, NV                                    273\n",
       "Los Alamos, NM                                     273\n",
       "Centralia, IL                                      273\n",
       "Name: count, Length: 923, dtype: int64"
      ]
     },
     "execution_count": 11,
     "metadata": {},
     "output_type": "execute_result"
    }
   ],
   "source": [
    "# Only need NYC Metro values\n",
    "ts['Metro'].value_counts()"
   ]
  },
  {
   "cell_type": "code",
   "execution_count": 12,
   "id": "5b1b5025",
   "metadata": {},
   "outputs": [
    {
     "name": "stdout",
     "output_type": "stream",
     "text": [
      "<class 'pandas.core.frame.DataFrame'>\n",
      "DatetimeIndex: 135408 entries, 2000-01-31 to 2022-09-30\n",
      "Data columns (total 9 columns):\n",
      " #   Column      Non-Null Count   Dtype  \n",
      "---  ------      --------------   -----  \n",
      " 0   RegionID    135408 non-null  int64  \n",
      " 1   SizeRank    135408 non-null  int64  \n",
      " 2   RegionName  135408 non-null  object \n",
      " 3   RegionType  135408 non-null  object \n",
      " 4   StateName   135408 non-null  object \n",
      " 5   State       135408 non-null  object \n",
      " 6   Metro       135408 non-null  object \n",
      " 7   CountyName  135408 non-null  object \n",
      " 8   HomeValue   131863 non-null  float64\n",
      "dtypes: float64(1), int64(2), object(6)\n",
      "memory usage: 10.3+ MB\n"
     ]
    }
   ],
   "source": [
    "# Filter data for NYC metro only\n",
    "ts = ts[ts['Metro'] == 'New York-Newark-Jersey City, NY-NJ-PA']\n",
    "ts.info()"
   ]
  },
  {
   "cell_type": "code",
   "execution_count": 13,
   "id": "8409775c",
   "metadata": {},
   "outputs": [
    {
     "name": "stdout",
     "output_type": "stream",
     "text": [
      "<class 'pandas.core.frame.DataFrame'>\n",
      "DatetimeIndex: 131863 entries, 2000-01-31 to 2022-09-30\n",
      "Data columns (total 9 columns):\n",
      " #   Column      Non-Null Count   Dtype  \n",
      "---  ------      --------------   -----  \n",
      " 0   RegionID    131863 non-null  int64  \n",
      " 1   SizeRank    131863 non-null  int64  \n",
      " 2   RegionName  131863 non-null  object \n",
      " 3   RegionType  131863 non-null  object \n",
      " 4   StateName   131863 non-null  object \n",
      " 5   State       131863 non-null  object \n",
      " 6   Metro       131863 non-null  object \n",
      " 7   CountyName  131863 non-null  object \n",
      " 8   HomeValue   131863 non-null  float64\n",
      "dtypes: float64(1), int64(2), object(6)\n",
      "memory usage: 10.1+ MB\n"
     ]
    }
   ],
   "source": [
    "# Discarding Nulls\n",
    "ts = ts.dropna(subset=['HomeValue'])\n",
    "ts.info()"
   ]
  },
  {
   "cell_type": "code",
   "execution_count": 14,
   "id": "2ba90956",
   "metadata": {},
   "outputs": [
    {
     "name": "stdout",
     "output_type": "stream",
     "text": [
      "RegionID      0\n",
      "SizeRank      0\n",
      "RegionName    0\n",
      "RegionType    0\n",
      "StateName     0\n",
      "State         0\n",
      "Metro         0\n",
      "CountyName    0\n",
      "HomeValue     0\n",
      "dtype: int64\n"
     ]
    }
   ],
   "source": [
    "print(ts.isnull().sum())"
   ]
  },
  {
   "cell_type": "markdown",
   "id": "f3cb0eeb",
   "metadata": {},
   "source": [
    "Exploratory Data Analysis"
   ]
  },
  {
   "cell_type": "code",
   "execution_count": 15,
   "id": "98815f24",
   "metadata": {},
   "outputs": [
    {
     "name": "stdout",
     "output_type": "stream",
     "text": [
      "           Test Statistic  # of Lags Used  # of Observations  p-value  alpha  \\\n",
      "HomeValue      -26.927297              73             131789      0.0   0.05   \n",
      "\n",
      "           sig/stationary?  \n",
      "HomeValue             True  \n"
     ]
    }
   ],
   "source": [
    "# Check for stationarity using your custom function\n",
    "adfuller_results = get_adfuller_results(ts['HomeValue'], label='HomeValue')\n",
    "\n",
    "# Print the ADF test results\n",
    "print(adfuller_results)"
   ]
  },
  {
   "cell_type": "code",
   "execution_count": 16,
   "id": "3712959d",
   "metadata": {},
   "outputs": [
    {
     "name": "stdout",
     "output_type": "stream",
     "text": [
      "d = 1\n"
     ]
    }
   ],
   "source": [
    "# determine d\n",
    "d = ndiffs(ts['HomeValue'])\n",
    "print (f'd = {d}')"
   ]
  },
  {
   "cell_type": "code",
   "execution_count": 17,
   "id": "21cd2ec3",
   "metadata": {},
   "outputs": [
    {
     "name": "stdout",
     "output_type": "stream",
     "text": [
      "D = 0\n"
     ]
    }
   ],
   "source": [
    "# Determine D\n",
    "D = nsdiffs(ts['HomeValue'], m =12)\n",
    "print(f'D = {D}')"
   ]
  },
  {
   "cell_type": "code",
   "execution_count": 18,
   "id": "3e05230c",
   "metadata": {},
   "outputs": [],
   "source": [
    "# Difference the data\n",
    "ts_diff = ts['HomeValue'].diff()"
   ]
  },
  {
   "cell_type": "code",
   "execution_count": 25,
   "id": "3873b3fd",
   "metadata": {},
   "outputs": [],
   "source": [
    "ts_home_value = ts['HomeValue'].resample('M').mean()\n"
   ]
  },
  {
   "cell_type": "code",
   "execution_count": 26,
   "id": "b889870e",
   "metadata": {},
   "outputs": [
    {
     "data": {
      "text/plain": [
       "Date\n",
       "2000-01-31    284886.170886\n",
       "2000-02-29    286678.468354\n",
       "2000-03-31    288352.137131\n",
       "2000-04-30    291474.341772\n",
       "2000-05-31    294434.345992\n",
       "2000-06-30    297522.483122\n",
       "2000-07-31    300859.902954\n",
       "2000-08-31    304346.894515\n",
       "2000-09-30    307892.940928\n",
       "2000-10-31    311470.571730\n",
       "2000-11-30    314762.143460\n",
       "2000-12-31    318077.905063\n",
       "2001-01-31    321124.902954\n",
       "2001-02-28    324605.991561\n",
       "2001-03-31    327608.786920\n",
       "2001-04-30    330901.031646\n",
       "2001-05-31    333989.137131\n",
       "2001-06-30    337482.907173\n",
       "2001-07-31    340919.746835\n",
       "2001-08-31    344533.978903\n",
       "2001-09-30    348194.141350\n",
       "2001-10-31    352176.191983\n",
       "2001-11-30    355889.563291\n",
       "2001-12-31    359303.869198\n",
       "2002-01-31    362679.430380\n",
       "2002-02-28    366262.487342\n",
       "2002-03-31    370030.343882\n",
       "2002-04-30    373696.864979\n",
       "2002-05-31    377361.697674\n",
       "2002-06-30    380970.044304\n",
       "Freq: M, Name: HomeValue, dtype: float64"
      ]
     },
     "execution_count": 26,
     "metadata": {},
     "output_type": "execute_result"
    }
   ],
   "source": [
    "ts_home_value.head(30)"
   ]
  },
  {
   "cell_type": "code",
   "execution_count": 19,
   "id": "e45e55ac",
   "metadata": {},
   "outputs": [
    {
     "name": "stdout",
     "output_type": "stream",
     "text": [
      "<class 'pandas.core.frame.DataFrame'>\n",
      "DatetimeIndex: 131863 entries, 2000-01-31 to 2022-09-30\n",
      "Data columns (total 9 columns):\n",
      " #   Column      Non-Null Count   Dtype  \n",
      "---  ------      --------------   -----  \n",
      " 0   RegionID    131863 non-null  int64  \n",
      " 1   SizeRank    131863 non-null  int64  \n",
      " 2   RegionName  131863 non-null  object \n",
      " 3   RegionType  131863 non-null  object \n",
      " 4   StateName   131863 non-null  object \n",
      " 5   State       131863 non-null  object \n",
      " 6   Metro       131863 non-null  object \n",
      " 7   CountyName  131863 non-null  object \n",
      " 8   HomeValue   131863 non-null  float64\n",
      "dtypes: float64(1), int64(2), object(6)\n",
      "memory usage: 10.1+ MB\n"
     ]
    }
   ],
   "source": [
    "ts.info()"
   ]
  },
  {
   "cell_type": "code",
   "execution_count": 28,
   "id": "39122688",
   "metadata": {},
   "outputs": [
    {
     "data": {
      "image/png": "[encoded data removed]",
      "text/plain": [
       "<Figure size 1000x500 with 2 Axes>"
      ]
     },
     "metadata": {},
     "output_type": "display_data"
    }
   ],
   "source": [
    "# Plot ACF and PACFada\n",
    "plot_acf_pacf(ts_home_value);"
   ]
  },
  {
   "cell_type": "code",
   "execution_count": 30,
   "id": "33947955",
   "metadata": {},
   "outputs": [
    {
     "data": {
      "image/png": "[encoded data removed]",
      "text/plain": [
       "<Figure size 640x480 with 1 Axes>"
      ]
     },
     "metadata": {},
     "output_type": "display_data"
    }
   ],
   "source": [
    "# tts\n",
    "train, test = train_test_split(ts_home_value, test_size=6)\n",
    "ax = train.plot(label='Train')\n",
    "test.plot(ax=ax, label='Test')\n",
    "ax.legend();"
   ]
  },
  {
   "cell_type": "code",
   "execution_count": 31,
   "id": "2d3865b8",
   "metadata": {},
   "outputs": [
    {
     "name": "stderr",
     "output_type": "stream",
     "text": [
      "C:\\Users\\James\\anaconda3\\Lib\\site-packages\\statsmodels\\base\\model.py:607: ConvergenceWarning: Maximum Likelihood optimization failed to converge. Check mle_retvals\n",
      "  warnings.warn(\"Maximum Likelihood optimization failed to \"\n"
     ]
    }
   ],
   "source": [
    "# Orders for non seasonal components\n",
    "p = 1  # nonseasonal AR\n",
    "d = 1  # nonseasonal differencing\n",
    "q = 1  # nonseasonal MA\n",
    "\n",
    "# Orders for seasonal components\n",
    "P = 1  # Seasonal AR\n",
    "D = 0  # Seasonal differencing\n",
    "Q = 1  # Seasonal MA\n",
    "m = 12 # Seasonal period\n",
    "\n",
    "sarima = tsa.ARIMA(train, order = (p,d,q), seasonal_order=(P,D,Q,m)).fit()\n",
    "\n"
   ]
  },
  {
   "cell_type": "code",
   "execution_count": null,
   "id": "57d85ede",
   "metadata": {},
   "outputs": [],
   "source": []
  },
  {
   "cell_type": "code",
   "execution_count": 32,
   "id": "1f2e3e63",
   "metadata": {},
   "outputs": [
    {
     "name": "stdout",
     "output_type": "stream",
     "text": [
      "------------------------------------------------------------\n",
      "Regression Metrics: \n",
      "------------------------------------------------------------\n",
      "- MAE = 20,571.371\n",
      "- MSE = 474,297,486.992\n",
      "- RMSE = 21,778.372\n",
      "- R^2 = -3.070\n",
      "- MAPE = 2.64%\n"
     ]
    },
    {
     "data": {
      "image/png": "[encoded data removed]",
      "text/plain": [
       "<Figure size 1000x400 with 1 Axes>"
      ]
     },
     "metadata": {},
     "output_type": "display_data"
    }
   ],
   "source": [
    "# Obtain summary of forecast as dataframe\n",
    "forecast_df = sarima.get_forecast(len(test)).summary_frame()\n",
    "# Plot the forecast with true values\n",
    "plot_forecast(train, test, forecast_df)\n",
    "# Obtain metrics\n",
    "regression_metrics_ts(test, forecast_df[\"mean\"])"
   ]
  },
  {
   "cell_type": "code",
   "execution_count": 33,
   "id": "30ef890c",
   "metadata": {},
   "outputs": [
    {
     "data": {
      "image/png": "[encoded data removed]",
      "text/plain": [
       "<Figure size 1000x600 with 4 Axes>"
      ]
     },
     "metadata": {},
     "output_type": "display_data"
    }
   ],
   "source": [
    "# Obtain diagnostic plots\n",
    "fig = sarima.plot_diagnostics()\n",
    "fig.set_size_inches(10,6)\n",
    "fig.tight_layout()"
   ]
  },
  {
   "cell_type": "code",
   "execution_count": 34,
   "id": "93918df2",
   "metadata": {},
   "outputs": [
    {
     "data": {
      "text/plain": [
       "[(0, 1, 0, 0, 0, 0, 12),\n",
       " (0, 1, 0, 0, 0, 1, 12),\n",
       " (0, 1, 0, 0, 0, 2, 12),\n",
       " (0, 1, 0, 1, 0, 0, 12),\n",
       " (0, 1, 0, 1, 0, 1, 12),\n",
       " (0, 1, 0, 1, 0, 2, 12),\n",
       " (0, 1, 0, 2, 0, 0, 12),\n",
       " (0, 1, 0, 2, 0, 1, 12),\n",
       " (0, 1, 0, 2, 0, 2, 12),\n",
       " (0, 1, 1, 0, 0, 0, 12)]"
      ]
     },
     "execution_count": 34,
     "metadata": {},
     "output_type": "execute_result"
    }
   ],
   "source": [
    "import itertools\n",
    "\n",
    "# Define the value or range of values for p, d, q\n",
    "p_values = range(0, 3)  \n",
    "d_values = [1]          \n",
    "q_values = range(0, 3)  \n",
    "P_values = range (0, 3)\n",
    "D_values = [0]\n",
    "Q_values = range (0,3)\n",
    "m = [12]\n",
    "\n",
    "# Create combinations of pdq to test\n",
    "pdqPDQm_to_try = list(itertools.product(p_values, d_values, q_values, P_values, D_values, Q_values, m))\n",
    "\n",
    "# Display first 10 combinations\n",
    "pdqPDQm_to_try[:10]"
   ]
  },
  {
   "cell_type": "code",
   "execution_count": 35,
   "id": "5328e429",
   "metadata": {
    "scrolled": false
   },
   "outputs": [
    {
     "name": "stdout",
     "output_type": "stream",
     "text": [
      "(0, 1, 0, 0, 0, 0, 12) 5121.609143895954\n",
      "(0, 1, 0, 0, 0, 1, 12) 5115.145767241678\n",
      "(0, 1, 0, 0, 0, 2, 12) 5123.665030193794\n",
      "(0, 1, 0, 1, 0, 0, 12) 5169.765129231764\n",
      "(0, 1, 0, 1, 0, 1, 12) 5107.972839928779\n",
      "(0, 1, 0, 1, 0, 2, 12) 5140.237263877228\n",
      "(0, 1, 0, 2, 0, 0, 12) 5112.820790787128\n",
      "(0, 1, 0, 2, 0, 1, 12) 5149.0553435541315\n"
     ]
    },
    {
     "name": "stderr",
     "output_type": "stream",
     "text": [
      "C:\\Users\\James\\anaconda3\\Lib\\site-packages\\statsmodels\\base\\model.py:607: ConvergenceWarning: Maximum Likelihood optimization failed to converge. Check mle_retvals\n",
      "  warnings.warn(\"Maximum Likelihood optimization failed to \"\n"
     ]
    },
    {
     "name": "stdout",
     "output_type": "stream",
     "text": [
      "(0, 1, 0, 2, 0, 2, 12) 5135.152050315728\n",
      "(0, 1, 1, 0, 0, 0, 12) 5109.375697437801\n",
      "(0, 1, 1, 0, 0, 1, 12) 5103.8457221056\n",
      "(0, 1, 1, 0, 0, 2, 12) 5102.727835477196\n",
      "(0, 1, 1, 1, 0, 0, 12) 5103.4826254231375\n",
      "(0, 1, 1, 1, 0, 1, 12) 5097.787025924359\n",
      "(0, 1, 1, 1, 0, 2, 12) 5099.5557737378895\n",
      "(0, 1, 1, 2, 0, 0, 12) 5102.135510222057\n",
      "(0, 1, 1, 2, 0, 1, 12) 5099.567472840815\n",
      "(0, 1, 1, 2, 0, 2, 12) 5094.951862799509\n",
      "(0, 1, 2, 0, 0, 0, 12) 5100.619285870769\n",
      "(0, 1, 2, 0, 0, 1, 12) 5095.501176596761\n",
      "(0, 1, 2, 0, 0, 2, 12) 5094.504062808604\n",
      "(0, 1, 2, 1, 0, 0, 12) 5095.170889299339\n",
      "(0, 1, 2, 1, 0, 1, 12) 5089.6757898471915\n",
      "(0, 1, 2, 1, 0, 2, 12) 5091.44052179821\n",
      "(0, 1, 2, 2, 0, 0, 12) 5093.95402484446\n",
      "(0, 1, 2, 2, 0, 1, 12) 5091.452074456742\n",
      "(0, 1, 2, 2, 0, 2, 12) 5093.658248664193\n",
      "(1, 1, 0, 0, 0, 0, 12) 5108.014053460911\n",
      "(1, 1, 0, 0, 0, 1, 12) 5102.326555348067\n",
      "(1, 1, 0, 0, 0, 2, 12) 5861.520664390198\n",
      "(1, 1, 0, 1, 0, 0, 12) 5101.9498738761085\n",
      "(1, 1, 0, 1, 0, 1, 12) 5112.016126437414\n",
      "(1, 1, 0, 1, 0, 2, 12) 5812.713662744358\n",
      "(1, 1, 0, 2, 0, 0, 12) 5100.432492229951\n"
     ]
    },
    {
     "name": "stderr",
     "output_type": "stream",
     "text": [
      "C:\\Users\\James\\anaconda3\\Lib\\site-packages\\statsmodels\\base\\model.py:607: ConvergenceWarning: Maximum Likelihood optimization failed to converge. Check mle_retvals\n",
      "  warnings.warn(\"Maximum Likelihood optimization failed to \"\n"
     ]
    },
    {
     "name": "stdout",
     "output_type": "stream",
     "text": [
      "(1, 1, 0, 2, 0, 1, 12) 5101.735123403521\n"
     ]
    },
    {
     "name": "stderr",
     "output_type": "stream",
     "text": [
      "C:\\Users\\James\\anaconda3\\Lib\\site-packages\\statsmodels\\base\\model.py:607: ConvergenceWarning: Maximum Likelihood optimization failed to converge. Check mle_retvals\n",
      "  warnings.warn(\"Maximum Likelihood optimization failed to \"\n"
     ]
    },
    {
     "name": "stdout",
     "output_type": "stream",
     "text": [
      "(1, 1, 0, 2, 0, 2, 12) 6711.294948023789\n",
      "(1, 1, 1, 0, 0, 0, 12) 4972.523310260462\n"
     ]
    },
    {
     "name": "stderr",
     "output_type": "stream",
     "text": [
      "C:\\Users\\James\\anaconda3\\Lib\\site-packages\\statsmodels\\base\\model.py:607: ConvergenceWarning: Maximum Likelihood optimization failed to converge. Check mle_retvals\n",
      "  warnings.warn(\"Maximum Likelihood optimization failed to \"\n"
     ]
    },
    {
     "name": "stdout",
     "output_type": "stream",
     "text": [
      "(1, 1, 1, 0, 0, 1, 12) 4976.933165953471\n"
     ]
    },
    {
     "name": "stderr",
     "output_type": "stream",
     "text": [
      "C:\\Users\\James\\anaconda3\\Lib\\site-packages\\statsmodels\\base\\model.py:607: ConvergenceWarning: Maximum Likelihood optimization failed to converge. Check mle_retvals\n",
      "  warnings.warn(\"Maximum Likelihood optimization failed to \"\n"
     ]
    },
    {
     "name": "stdout",
     "output_type": "stream",
     "text": [
      "(1, 1, 1, 0, 0, 2, 12) 5057.759656587384\n"
     ]
    },
    {
     "name": "stderr",
     "output_type": "stream",
     "text": [
      "C:\\Users\\James\\anaconda3\\Lib\\site-packages\\statsmodels\\base\\model.py:607: ConvergenceWarning: Maximum Likelihood optimization failed to converge. Check mle_retvals\n",
      "  warnings.warn(\"Maximum Likelihood optimization failed to \"\n"
     ]
    },
    {
     "name": "stdout",
     "output_type": "stream",
     "text": [
      "(1, 1, 1, 1, 0, 0, 12) 4976.731771433651\n"
     ]
    },
    {
     "name": "stderr",
     "output_type": "stream",
     "text": [
      "C:\\Users\\James\\anaconda3\\Lib\\site-packages\\statsmodels\\base\\model.py:607: ConvergenceWarning: Maximum Likelihood optimization failed to converge. Check mle_retvals\n",
      "  warnings.warn(\"Maximum Likelihood optimization failed to \"\n"
     ]
    },
    {
     "name": "stdout",
     "output_type": "stream",
     "text": [
      "(1, 1, 1, 1, 0, 1, 12) 5008.570999222384\n"
     ]
    },
    {
     "name": "stderr",
     "output_type": "stream",
     "text": [
      "C:\\Users\\James\\anaconda3\\Lib\\site-packages\\statsmodels\\base\\model.py:607: ConvergenceWarning: Maximum Likelihood optimization failed to converge. Check mle_retvals\n",
      "  warnings.warn(\"Maximum Likelihood optimization failed to \"\n"
     ]
    },
    {
     "name": "stdout",
     "output_type": "stream",
     "text": [
      "(1, 1, 1, 1, 0, 2, 12) 5686.968436405321\n"
     ]
    },
    {
     "name": "stderr",
     "output_type": "stream",
     "text": [
      "C:\\Users\\James\\anaconda3\\Lib\\site-packages\\statsmodels\\base\\model.py:607: ConvergenceWarning: Maximum Likelihood optimization failed to converge. Check mle_retvals\n",
      "  warnings.warn(\"Maximum Likelihood optimization failed to \"\n"
     ]
    },
    {
     "name": "stdout",
     "output_type": "stream",
     "text": [
      "(1, 1, 1, 2, 0, 0, 12) 4986.745603461493\n"
     ]
    },
    {
     "name": "stderr",
     "output_type": "stream",
     "text": [
      "C:\\Users\\James\\anaconda3\\Lib\\site-packages\\statsmodels\\base\\model.py:607: ConvergenceWarning: Maximum Likelihood optimization failed to converge. Check mle_retvals\n",
      "  warnings.warn(\"Maximum Likelihood optimization failed to \"\n"
     ]
    },
    {
     "name": "stdout",
     "output_type": "stream",
     "text": [
      "(1, 1, 1, 2, 0, 1, 12) 4984.325891661657\n",
      "(1, 1, 1, 2, 0, 2, 12) 5367.754513383058\n"
     ]
    },
    {
     "name": "stderr",
     "output_type": "stream",
     "text": [
      "C:\\Users\\James\\anaconda3\\Lib\\site-packages\\statsmodels\\base\\model.py:607: ConvergenceWarning: Maximum Likelihood optimization failed to converge. Check mle_retvals\n",
      "  warnings.warn(\"Maximum Likelihood optimization failed to \"\n"
     ]
    },
    {
     "name": "stdout",
     "output_type": "stream",
     "text": [
      "(1, 1, 2, 0, 0, 0, 12) 4974.523284774765\n"
     ]
    },
    {
     "name": "stderr",
     "output_type": "stream",
     "text": [
      "C:\\Users\\James\\anaconda3\\Lib\\site-packages\\statsmodels\\base\\model.py:607: ConvergenceWarning: Maximum Likelihood optimization failed to converge. Check mle_retvals\n",
      "  warnings.warn(\"Maximum Likelihood optimization failed to \"\n"
     ]
    },
    {
     "name": "stdout",
     "output_type": "stream",
     "text": [
      "(1, 1, 2, 0, 0, 1, 12) 5001.429074619287\n"
     ]
    },
    {
     "name": "stderr",
     "output_type": "stream",
     "text": [
      "C:\\Users\\James\\anaconda3\\Lib\\site-packages\\statsmodels\\base\\model.py:607: ConvergenceWarning: Maximum Likelihood optimization failed to converge. Check mle_retvals\n",
      "  warnings.warn(\"Maximum Likelihood optimization failed to \"\n"
     ]
    },
    {
     "name": "stdout",
     "output_type": "stream",
     "text": [
      "(1, 1, 2, 0, 0, 2, 12) 5099.536089026485\n"
     ]
    },
    {
     "name": "stderr",
     "output_type": "stream",
     "text": [
      "C:\\Users\\James\\anaconda3\\Lib\\site-packages\\statsmodels\\base\\model.py:607: ConvergenceWarning: Maximum Likelihood optimization failed to converge. Check mle_retvals\n",
      "  warnings.warn(\"Maximum Likelihood optimization failed to \"\n"
     ]
    },
    {
     "name": "stdout",
     "output_type": "stream",
     "text": [
      "(1, 1, 2, 1, 0, 0, 12) 4976.445154853385\n"
     ]
    },
    {
     "name": "stderr",
     "output_type": "stream",
     "text": [
      "C:\\Users\\James\\anaconda3\\Lib\\site-packages\\statsmodels\\base\\model.py:607: ConvergenceWarning: Maximum Likelihood optimization failed to converge. Check mle_retvals\n",
      "  warnings.warn(\"Maximum Likelihood optimization failed to \"\n"
     ]
    },
    {
     "name": "stdout",
     "output_type": "stream",
     "text": [
      "(1, 1, 2, 1, 0, 1, 12) 5066.930525714858\n"
     ]
    },
    {
     "name": "stderr",
     "output_type": "stream",
     "text": [
      "C:\\Users\\James\\anaconda3\\Lib\\site-packages\\statsmodels\\base\\model.py:607: ConvergenceWarning: Maximum Likelihood optimization failed to converge. Check mle_retvals\n",
      "  warnings.warn(\"Maximum Likelihood optimization failed to \"\n"
     ]
    },
    {
     "name": "stdout",
     "output_type": "stream",
     "text": [
      "(1, 1, 2, 1, 0, 2, 12) 5561.022084731945\n"
     ]
    },
    {
     "name": "stderr",
     "output_type": "stream",
     "text": [
      "C:\\Users\\James\\anaconda3\\Lib\\site-packages\\statsmodels\\base\\model.py:607: ConvergenceWarning: Maximum Likelihood optimization failed to converge. Check mle_retvals\n",
      "  warnings.warn(\"Maximum Likelihood optimization failed to \"\n"
     ]
    },
    {
     "name": "stdout",
     "output_type": "stream",
     "text": [
      "(1, 1, 2, 2, 0, 0, 12) 4978.150492907425\n"
     ]
    },
    {
     "name": "stderr",
     "output_type": "stream",
     "text": [
      "C:\\Users\\James\\anaconda3\\Lib\\site-packages\\statsmodels\\base\\model.py:607: ConvergenceWarning: Maximum Likelihood optimization failed to converge. Check mle_retvals\n",
      "  warnings.warn(\"Maximum Likelihood optimization failed to \"\n"
     ]
    },
    {
     "name": "stdout",
     "output_type": "stream",
     "text": [
      "(1, 1, 2, 2, 0, 1, 12) 4980.450385612935\n"
     ]
    },
    {
     "name": "stderr",
     "output_type": "stream",
     "text": [
      "C:\\Users\\James\\anaconda3\\Lib\\site-packages\\statsmodels\\base\\model.py:607: ConvergenceWarning: Maximum Likelihood optimization failed to converge. Check mle_retvals\n",
      "  warnings.warn(\"Maximum Likelihood optimization failed to \"\n"
     ]
    },
    {
     "name": "stdout",
     "output_type": "stream",
     "text": [
      "(1, 1, 2, 2, 0, 2, 12) 5787.0132552607665\n",
      "(2, 1, 0, 0, 0, 0, 12) 5097.4193403968275\n",
      "(2, 1, 0, 0, 0, 1, 12) 8.0\n",
      "(2, 1, 0, 0, 0, 2, 12) 5091.257697141959\n",
      "(2, 1, 0, 1, 0, 0, 12) 5092.00159453312\n",
      "(2, 1, 0, 1, 0, 1, 12): caused an error\n"
     ]
    },
    {
     "name": "stderr",
     "output_type": "stream",
     "text": [
      "C:\\Users\\James\\anaconda3\\Lib\\site-packages\\statsmodels\\base\\model.py:607: ConvergenceWarning: Maximum Likelihood optimization failed to converge. Check mle_retvals\n",
      "  warnings.warn(\"Maximum Likelihood optimization failed to \"\n"
     ]
    },
    {
     "name": "stdout",
     "output_type": "stream",
     "text": [
      "(2, 1, 0, 1, 0, 2, 12) 5097.223433543685\n",
      "(2, 1, 0, 2, 0, 0, 12) 5090.69479162119\n",
      "(2, 1, 0, 2, 0, 1, 12) 6603.479634477653\n"
     ]
    },
    {
     "name": "stderr",
     "output_type": "stream",
     "text": [
      "C:\\Users\\James\\anaconda3\\Lib\\site-packages\\statsmodels\\base\\model.py:607: ConvergenceWarning: Maximum Likelihood optimization failed to converge. Check mle_retvals\n",
      "  warnings.warn(\"Maximum Likelihood optimization failed to \"\n"
     ]
    },
    {
     "name": "stdout",
     "output_type": "stream",
     "text": [
      "(2, 1, 0, 2, 0, 2, 12) 6782.46404860986\n",
      "(2, 1, 1, 0, 0, 0, 12) 4974.523284370361\n"
     ]
    },
    {
     "name": "stderr",
     "output_type": "stream",
     "text": [
      "C:\\Users\\James\\anaconda3\\Lib\\site-packages\\statsmodels\\base\\model.py:607: ConvergenceWarning: Maximum Likelihood optimization failed to converge. Check mle_retvals\n",
      "  warnings.warn(\"Maximum Likelihood optimization failed to \"\n"
     ]
    },
    {
     "name": "stdout",
     "output_type": "stream",
     "text": [
      "(2, 1, 1, 0, 0, 1, 12) 5002.703211950071\n"
     ]
    },
    {
     "name": "stderr",
     "output_type": "stream",
     "text": [
      "C:\\Users\\James\\anaconda3\\Lib\\site-packages\\statsmodels\\base\\model.py:607: ConvergenceWarning: Maximum Likelihood optimization failed to converge. Check mle_retvals\n",
      "  warnings.warn(\"Maximum Likelihood optimization failed to \"\n"
     ]
    },
    {
     "name": "stdout",
     "output_type": "stream",
     "text": [
      "(2, 1, 1, 0, 0, 2, 12) 5062.486854522539\n"
     ]
    },
    {
     "name": "stderr",
     "output_type": "stream",
     "text": [
      "C:\\Users\\James\\anaconda3\\Lib\\site-packages\\statsmodels\\base\\model.py:607: ConvergenceWarning: Maximum Likelihood optimization failed to converge. Check mle_retvals\n",
      "  warnings.warn(\"Maximum Likelihood optimization failed to \"\n"
     ]
    },
    {
     "name": "stdout",
     "output_type": "stream",
     "text": [
      "(2, 1, 1, 1, 0, 0, 12) 4976.463330750423\n",
      "(2, 1, 1, 1, 0, 1, 12) 5420.501737060567\n"
     ]
    },
    {
     "name": "stderr",
     "output_type": "stream",
     "text": [
      "C:\\Users\\James\\anaconda3\\Lib\\site-packages\\statsmodels\\base\\model.py:607: ConvergenceWarning: Maximum Likelihood optimization failed to converge. Check mle_retvals\n",
      "  warnings.warn(\"Maximum Likelihood optimization failed to \"\n"
     ]
    },
    {
     "name": "stdout",
     "output_type": "stream",
     "text": [
      "(2, 1, 1, 1, 0, 2, 12) 5079.53766636082\n"
     ]
    },
    {
     "name": "stderr",
     "output_type": "stream",
     "text": [
      "C:\\Users\\James\\anaconda3\\Lib\\site-packages\\statsmodels\\base\\model.py:607: ConvergenceWarning: Maximum Likelihood optimization failed to converge. Check mle_retvals\n",
      "  warnings.warn(\"Maximum Likelihood optimization failed to \"\n"
     ]
    },
    {
     "name": "stdout",
     "output_type": "stream",
     "text": [
      "(2, 1, 1, 2, 0, 0, 12) 5030.612774193347\n"
     ]
    },
    {
     "name": "stderr",
     "output_type": "stream",
     "text": [
      "C:\\Users\\James\\anaconda3\\Lib\\site-packages\\statsmodels\\base\\model.py:607: ConvergenceWarning: Maximum Likelihood optimization failed to converge. Check mle_retvals\n",
      "  warnings.warn(\"Maximum Likelihood optimization failed to \"\n"
     ]
    },
    {
     "name": "stdout",
     "output_type": "stream",
     "text": [
      "(2, 1, 1, 2, 0, 1, 12) 5098.928097988952\n"
     ]
    },
    {
     "name": "stderr",
     "output_type": "stream",
     "text": [
      "C:\\Users\\James\\anaconda3\\Lib\\site-packages\\statsmodels\\base\\model.py:607: ConvergenceWarning: Maximum Likelihood optimization failed to converge. Check mle_retvals\n",
      "  warnings.warn(\"Maximum Likelihood optimization failed to \"\n"
     ]
    },
    {
     "name": "stdout",
     "output_type": "stream",
     "text": [
      "(2, 1, 1, 2, 0, 2, 12) 5745.512273907054\n"
     ]
    },
    {
     "name": "stderr",
     "output_type": "stream",
     "text": [
      "C:\\Users\\James\\anaconda3\\Lib\\site-packages\\statsmodels\\base\\model.py:607: ConvergenceWarning: Maximum Likelihood optimization failed to converge. Check mle_retvals\n",
      "  warnings.warn(\"Maximum Likelihood optimization failed to \"\n"
     ]
    },
    {
     "name": "stdout",
     "output_type": "stream",
     "text": [
      "(2, 1, 2, 0, 0, 0, 12) 4996.19838676629\n"
     ]
    },
    {
     "name": "stderr",
     "output_type": "stream",
     "text": [
      "C:\\Users\\James\\anaconda3\\Lib\\site-packages\\statsmodels\\base\\model.py:607: ConvergenceWarning: Maximum Likelihood optimization failed to converge. Check mle_retvals\n",
      "  warnings.warn(\"Maximum Likelihood optimization failed to \"\n"
     ]
    },
    {
     "name": "stdout",
     "output_type": "stream",
     "text": [
      "(2, 1, 2, 0, 0, 1, 12) 5549.843857681384\n"
     ]
    },
    {
     "name": "stderr",
     "output_type": "stream",
     "text": [
      "C:\\Users\\James\\anaconda3\\Lib\\site-packages\\statsmodels\\base\\model.py:607: ConvergenceWarning: Maximum Likelihood optimization failed to converge. Check mle_retvals\n",
      "  warnings.warn(\"Maximum Likelihood optimization failed to \"\n"
     ]
    },
    {
     "name": "stdout",
     "output_type": "stream",
     "text": [
      "(2, 1, 2, 0, 0, 2, 12) 25876.361211187592\n"
     ]
    },
    {
     "name": "stderr",
     "output_type": "stream",
     "text": [
      "C:\\Users\\James\\anaconda3\\Lib\\site-packages\\statsmodels\\base\\model.py:607: ConvergenceWarning: Maximum Likelihood optimization failed to converge. Check mle_retvals\n",
      "  warnings.warn(\"Maximum Likelihood optimization failed to \"\n"
     ]
    },
    {
     "name": "stdout",
     "output_type": "stream",
     "text": [
      "(2, 1, 2, 1, 0, 0, 12) 5668.762653084788\n",
      "(2, 1, 2, 1, 0, 1, 12) 5781.60663396559\n"
     ]
    },
    {
     "name": "stderr",
     "output_type": "stream",
     "text": [
      "C:\\Users\\James\\anaconda3\\Lib\\site-packages\\statsmodels\\base\\model.py:607: ConvergenceWarning: Maximum Likelihood optimization failed to converge. Check mle_retvals\n",
      "  warnings.warn(\"Maximum Likelihood optimization failed to \"\n"
     ]
    },
    {
     "name": "stdout",
     "output_type": "stream",
     "text": [
      "(2, 1, 2, 1, 0, 2, 12) 5744.891668302747\n"
     ]
    },
    {
     "name": "stderr",
     "output_type": "stream",
     "text": [
      "C:\\Users\\James\\anaconda3\\Lib\\site-packages\\statsmodels\\base\\model.py:607: ConvergenceWarning: Maximum Likelihood optimization failed to converge. Check mle_retvals\n",
      "  warnings.warn(\"Maximum Likelihood optimization failed to \"\n"
     ]
    },
    {
     "name": "stdout",
     "output_type": "stream",
     "text": [
      "(2, 1, 2, 2, 0, 0, 12) 5610.413642892079\n",
      "(2, 1, 2, 2, 0, 1, 12) 5773.216368989983\n",
      "(2, 1, 2, 2, 0, 2, 12) 5800.997572848085\n",
      "Best AIC: 8.0\n",
      "Best pdqPDQm: (2, 1, 0, 0, 0, 1, 12)\n"
     ]
    },
    {
     "name": "stderr",
     "output_type": "stream",
     "text": [
      "C:\\Users\\James\\anaconda3\\Lib\\site-packages\\statsmodels\\base\\model.py:607: ConvergenceWarning: Maximum Likelihood optimization failed to converge. Check mle_retvals\n",
      "  warnings.warn(\"Maximum Likelihood optimization failed to \"\n"
     ]
    }
   ],
   "source": [
    "# define starting aic as infinity\n",
    "best_aic = float(\"inf\")  \n",
    "\n",
    "# define baseline for pdq\n",
    "best_pdqPDQm = (0,0,0,0,0,0,0)\n",
    "\n",
    "# Loop through each combination\n",
    "for pdqPDQm in pdqPDQm_to_try:\n",
    "    order = pdqPDQm[:3] # first three values are non seasonal (p,d,q)\n",
    "    seasonal_order = pdqPDQm[3:] # Remaining values for seasonal (P,D,Q,m)\n",
    "    \n",
    "    model = tsa.ARIMA(train, order=order, seasonal_order = seasonal_order)\n",
    "    try:                         \n",
    "        result = model.fit()\n",
    "        print(pdqPDQm, result.aic)      \n",
    "   \n",
    "    except:\n",
    "        print(f'{pdqPDQm}: caused an error')\n",
    "    \n",
    "    # If lower, replace best AIC with new value\n",
    "    if result.aic < best_aic:\n",
    "        \n",
    "        best_aic = result.aic\n",
    "        best_pdqPDQm = pdqPDQm\n",
    "\n",
    "# Print the best orders and AIC score\n",
    "print(\"Best AIC:\", best_aic)\n",
    "print(\"Best pdqPDQm:\", best_pdqPDQm)"
   ]
  },
  {
   "cell_type": "code",
   "execution_count": 36,
   "id": "14e0b10a",
   "metadata": {},
   "outputs": [
    {
     "data": {
      "text/html": [
       "<table class=\"simpletable\">\n",
       "<caption>SARIMAX Results</caption>\n",
       "<tr>\n",
       "  <th>Dep. Variable:</th>             <td>HomeValue</td>          <th>  No. Observations:  </th>    <td>267</td>   \n",
       "</tr>\n",
       "<tr>\n",
       "  <th>Model:</th>           <td>ARIMA(1, 1, 1)x(1, 0, 1, 12)</td> <th>  Log Likelihood     </th> <td>-2499.285</td>\n",
       "</tr>\n",
       "<tr>\n",
       "  <th>Date:</th>                  <td>Tue, 09 Jan 2024</td>       <th>  AIC                </th> <td>5008.571</td> \n",
       "</tr>\n",
       "<tr>\n",
       "  <th>Time:</th>                      <td>08:04:29</td>           <th>  BIC                </th> <td>5026.488</td> \n",
       "</tr>\n",
       "<tr>\n",
       "  <th>Sample:</th>                   <td>01-31-2000</td>          <th>  HQIC               </th> <td>5015.769</td> \n",
       "</tr>\n",
       "<tr>\n",
       "  <th></th>                         <td>- 03-31-2022</td>         <th>                     </th>     <td> </td>    \n",
       "</tr>\n",
       "<tr>\n",
       "  <th>Covariance Type:</th>              <td>opg</td>             <th>                     </th>     <td> </td>    \n",
       "</tr>\n",
       "</table>\n",
       "<table class=\"simpletable\">\n",
       "<tr>\n",
       "      <td></td>        <th>coef</th>     <th>std err</th>      <th>z</th>      <th>P>|z|</th>  <th>[0.025</th>    <th>0.975]</th>  \n",
       "</tr>\n",
       "<tr>\n",
       "  <th>ar.L1</th>    <td>    0.9812</td> <td>    0.004</td> <td>  280.124</td> <td> 0.000</td> <td>    0.974</td> <td>    0.988</td>\n",
       "</tr>\n",
       "<tr>\n",
       "  <th>ma.L1</th>    <td>   -0.9604</td> <td>    0.004</td> <td> -228.029</td> <td> 0.000</td> <td>   -0.969</td> <td>   -0.952</td>\n",
       "</tr>\n",
       "<tr>\n",
       "  <th>ar.S.L12</th> <td>    1.0000</td> <td>    0.006</td> <td>  158.016</td> <td> 0.000</td> <td>    0.988</td> <td>    1.012</td>\n",
       "</tr>\n",
       "<tr>\n",
       "  <th>ma.S.L12</th> <td>   -1.0000</td> <td>    0.007</td> <td> -139.425</td> <td> 0.000</td> <td>   -1.014</td> <td>   -0.986</td>\n",
       "</tr>\n",
       "<tr>\n",
       "  <th>sigma2</th>   <td> 4.706e+06</td> <td> 1.47e-08</td> <td> 3.21e+14</td> <td> 0.000</td> <td> 4.71e+06</td> <td> 4.71e+06</td>\n",
       "</tr>\n",
       "</table>\n",
       "<table class=\"simpletable\">\n",
       "<tr>\n",
       "  <th>Ljung-Box (L1) (Q):</th>     <td>221.28</td> <th>  Jarque-Bera (JB):  </th> <td>21.66</td>\n",
       "</tr>\n",
       "<tr>\n",
       "  <th>Prob(Q):</th>                 <td>0.00</td>  <th>  Prob(JB):          </th> <td>0.00</td> \n",
       "</tr>\n",
       "<tr>\n",
       "  <th>Heteroskedasticity (H):</th>  <td>1.57</td>  <th>  Skew:              </th> <td>0.44</td> \n",
       "</tr>\n",
       "<tr>\n",
       "  <th>Prob(H) (two-sided):</th>     <td>0.03</td>  <th>  Kurtosis:          </th> <td>4.08</td> \n",
       "</tr>\n",
       "</table><br/><br/>Warnings:<br/>[1] Covariance matrix calculated using the outer product of gradients (complex-step).<br/>[2] Covariance matrix is singular or near-singular, with condition number 3.65e+28. Standard errors may be unstable."
      ],
      "text/latex": [
       "\\begin{center}\n",
       "\\begin{tabular}{lclc}\n",
       "\\toprule\n",
       "\\textbf{Dep. Variable:}          &          HomeValue           & \\textbf{  No. Observations:  } &    267      \\\\\n",
       "\\textbf{Model:}                  & ARIMA(1, 1, 1)x(1, 0, 1, 12) & \\textbf{  Log Likelihood     } & -2499.285   \\\\\n",
       "\\textbf{Date:}                   &       Tue, 09 Jan 2024       & \\textbf{  AIC                } &  5008.571   \\\\\n",
       "\\textbf{Time:}                   &           08:04:29           & \\textbf{  BIC                } &  5026.488   \\\\\n",
       "\\textbf{Sample:}                 &          01-31-2000          & \\textbf{  HQIC               } &  5015.769   \\\\\n",
       "\\textbf{}                        &         - 03-31-2022         & \\textbf{                     } &             \\\\\n",
       "\\textbf{Covariance Type:}        &             opg              & \\textbf{                     } &             \\\\\n",
       "\\bottomrule\n",
       "\\end{tabular}\n",
       "\\begin{tabular}{lcccccc}\n",
       "                  & \\textbf{coef} & \\textbf{std err} & \\textbf{z} & \\textbf{P$> |$z$|$} & \\textbf{[0.025} & \\textbf{0.975]}  \\\\\n",
       "\\midrule\n",
       "\\textbf{ar.L1}    &       0.9812  &        0.004     &   280.124  &         0.000        &        0.974    &        0.988     \\\\\n",
       "\\textbf{ma.L1}    &      -0.9604  &        0.004     &  -228.029  &         0.000        &       -0.969    &       -0.952     \\\\\n",
       "\\textbf{ar.S.L12} &       1.0000  &        0.006     &   158.016  &         0.000        &        0.988    &        1.012     \\\\\n",
       "\\textbf{ma.S.L12} &      -1.0000  &        0.007     &  -139.425  &         0.000        &       -1.014    &       -0.986     \\\\\n",
       "\\textbf{sigma2}   &    4.706e+06  &     1.47e-08     &  3.21e+14  &         0.000        &     4.71e+06    &     4.71e+06     \\\\\n",
       "\\bottomrule\n",
       "\\end{tabular}\n",
       "\\begin{tabular}{lclc}\n",
       "\\textbf{Ljung-Box (L1) (Q):}     & 221.28 & \\textbf{  Jarque-Bera (JB):  } & 21.66  \\\\\n",
       "\\textbf{Prob(Q):}                &  0.00  & \\textbf{  Prob(JB):          } &  0.00  \\\\\n",
       "\\textbf{Heteroskedasticity (H):} &  1.57  & \\textbf{  Skew:              } &  0.44  \\\\\n",
       "\\textbf{Prob(H) (two-sided):}    &  0.03  & \\textbf{  Kurtosis:          } &  4.08  \\\\\n",
       "\\bottomrule\n",
       "\\end{tabular}\n",
       "%\\caption{SARIMAX Results}\n",
       "\\end{center}\n",
       "\n",
       "Warnings: \\newline\n",
       " [1] Covariance matrix calculated using the outer product of gradients (complex-step). \\newline\n",
       " [2] Covariance matrix is singular or near-singular, with condition number 3.65e+28. Standard errors may be unstable."
      ],
      "text/plain": [
       "<class 'statsmodels.iolib.summary.Summary'>\n",
       "\"\"\"\n",
       "                                    SARIMAX Results                                     \n",
       "========================================================================================\n",
       "Dep. Variable:                        HomeValue   No. Observations:                  267\n",
       "Model:             ARIMA(1, 1, 1)x(1, 0, 1, 12)   Log Likelihood               -2499.285\n",
       "Date:                          Tue, 09 Jan 2024   AIC                           5008.571\n",
       "Time:                                  08:04:29   BIC                           5026.488\n",
       "Sample:                              01-31-2000   HQIC                          5015.769\n",
       "                                   - 03-31-2022                                         \n",
       "Covariance Type:                            opg                                         \n",
       "==============================================================================\n",
       "                 coef    std err          z      P>|z|      [0.025      0.975]\n",
       "------------------------------------------------------------------------------\n",
       "ar.L1          0.9812      0.004    280.124      0.000       0.974       0.988\n",
       "ma.L1         -0.9604      0.004   -228.029      0.000      -0.969      -0.952\n",
       "ar.S.L12       1.0000      0.006    158.016      0.000       0.988       1.012\n",
       "ma.S.L12      -1.0000      0.007   -139.425      0.000      -1.014      -0.986\n",
       "sigma2      4.706e+06   1.47e-08   3.21e+14      0.000    4.71e+06    4.71e+06\n",
       "===================================================================================\n",
       "Ljung-Box (L1) (Q):                 221.28   Jarque-Bera (JB):                21.66\n",
       "Prob(Q):                              0.00   Prob(JB):                         0.00\n",
       "Heteroskedasticity (H):               1.57   Skew:                             0.44\n",
       "Prob(H) (two-sided):                  0.03   Kurtosis:                         4.08\n",
       "===================================================================================\n",
       "\n",
       "Warnings:\n",
       "[1] Covariance matrix calculated using the outer product of gradients (complex-step).\n",
       "[2] Covariance matrix is singular or near-singular, with condition number 3.65e+28. Standard errors may be unstable.\n",
       "\"\"\""
      ]
     },
     "execution_count": 36,
     "metadata": {},
     "output_type": "execute_result"
    }
   ],
   "source": [
    "# Obtain summary\n",
    "sarima.summary()"
   ]
  },
  {
   "cell_type": "code",
   "execution_count": 39,
   "id": "d5082fb0",
   "metadata": {},
   "outputs": [
    {
     "data": {
      "image/png": "[encoded data removed]",
      "text/plain": [
       "<Figure size 640x480 with 1 Axes>"
      ]
     },
     "metadata": {},
     "output_type": "display_data"
    }
   ],
   "source": [
    "# Calculating number of test lags\n",
    "n_test_lags = 10000\n",
    "\n",
    "# Modeling to predict 6 months into the future\n",
    "train, test = train_test_split(ts['HomeValue'], test_size=n_test_lags)\n",
    "ax = train.plot(label='Train')\n",
    "test.plot(ax=ax, label='Test')\n",
    "ax.legend();"
   ]
  },
  {
   "cell_type": "code",
   "execution_count": 40,
   "id": "e657b141",
   "metadata": {},
   "outputs": [
    {
     "data": {
      "text/html": [
       "<div>\n",
       "<style scoped>\n",
       "    .dataframe tbody tr th:only-of-type {\n",
       "        vertical-align: middle;\n",
       "    }\n",
       "\n",
       "    .dataframe tbody tr th {\n",
       "        vertical-align: top;\n",
       "    }\n",
       "\n",
       "    .dataframe thead th {\n",
       "        text-align: right;\n",
       "    }\n",
       "</style>\n",
       "<table border=\"1\" class=\"dataframe\">\n",
       "  <thead>\n",
       "    <tr style=\"text-align: right;\">\n",
       "      <th></th>\n",
       "      <th>Test Statistic</th>\n",
       "      <th># of Lags Used</th>\n",
       "      <th># of Observations</th>\n",
       "      <th>p-value</th>\n",
       "      <th>alpha</th>\n",
       "      <th>sig/stationary?</th>\n",
       "    </tr>\n",
       "  </thead>\n",
       "  <tbody>\n",
       "    <tr>\n",
       "      <th>adfuller</th>\n",
       "      <td>-67.122042</td>\n",
       "      <td>72</td>\n",
       "      <td>131789</td>\n",
       "      <td>0.0</td>\n",
       "      <td>0.05</td>\n",
       "      <td>True</td>\n",
       "    </tr>\n",
       "  </tbody>\n",
       "</table>\n",
       "</div>"
      ],
      "text/plain": [
       "          Test Statistic  # of Lags Used  # of Observations  p-value  alpha  \\\n",
       "adfuller      -67.122042              72             131789      0.0   0.05   \n",
       "\n",
       "          sig/stationary?  \n",
       "adfuller             True  "
      ]
     },
     "execution_count": 40,
     "metadata": {},
     "output_type": "execute_result"
    },
    {
     "data": {
      "image/png": "[encoded data removed]",
      "text/plain": [
       "<Figure size 640x480 with 1 Axes>"
      ]
     },
     "metadata": {},
     "output_type": "display_data"
    }
   ],
   "source": [
    "ts_diff = ts['HomeValue'].diff().dropna()\n",
    "ts_diff.plot()\n",
    "# Checking for stationarity\n",
    "get_adfuller_results(ts_diff)"
   ]
  },
  {
   "cell_type": "code",
   "execution_count": null,
   "id": "e886188e",
   "metadata": {},
   "outputs": [],
   "source": [
    "# Build the model \n",
    "p = 1  # AR component \n",
    "\n",
    "d = 1  # Number of differencing required to make stationary\n",
    "\n",
    "q =  8 # MA component \n",
    "\n",
    "# Define and fit the model\n",
    "arima_model = tsa.ARIMA(train, order=(p,d,q)).fit()"
   ]
  },
  {
   "cell_type": "code",
   "execution_count": null,
   "id": "d7821fe4",
   "metadata": {},
   "outputs": [],
   "source": [
    "# Make forecasts for the next 6 months\n",
    "forecast_steps = 6\n",
    "forecasts = result.get_forecast(steps=forecast_steps)"
   ]
  },
  {
   "cell_type": "code",
   "execution_count": null,
   "id": "93408196",
   "metadata": {},
   "outputs": [],
   "source": [
    "# Obtain summary of forecast as dataframe\n",
    "forecast_df = arima_model.get_forecast(len(test)).summary_frame()"
   ]
  },
  {
   "cell_type": "code",
   "execution_count": null,
   "id": "9ba8ed12",
   "metadata": {},
   "outputs": [],
   "source": [
    "# Plot the forecast with true values\n",
    "plot_forecast(ts_train, ts_test, forecasts)\n",
    "\n",
    "# Obtain metrics\n",
    "regression_metrics_ts(test, forecasts['mean'])"
   ]
  },
  {
   "cell_type": "code",
   "execution_count": null,
   "id": "e3263c9a",
   "metadata": {},
   "outputs": [],
   "source": [
    "plot_forecast(ts_train,forecasts)"
   ]
  },
  {
   "cell_type": "code",
   "execution_count": null,
   "id": "c4a8d130",
   "metadata": {},
   "outputs": [],
   "source": [
    "# Assuming you've determined values for p, d, and q\n",
    "p =  1\n",
    "d =  0\n",
    "q =  8\n",
    "\n",
    "# Fit ARIMA model\n",
    "model = ARIMA(ts['HomeValue'], order=(p, d, q))\n",
    "result = model.fit()\n",
    "\n",
    "# Make forecasts for the next 6 months\n",
    "forecast_steps = 6\n",
    "forecasts = result.get_forecast(steps=forecast_steps)"
   ]
  },
  {
   "cell_type": "code",
   "execution_count": null,
   "id": "6bf3f3fe",
   "metadata": {},
   "outputs": [],
   "source": [
    "# Plotting forcasts \n",
    "plot_forecast(forecasts)"
   ]
  },
  {
   "cell_type": "code",
   "execution_count": null,
   "id": "2bf09cd6",
   "metadata": {},
   "outputs": [],
   "source": [
    "# Determine the number of differences needed\n",
    "d = ndiffs(ts_home_value)\n",
    "print(f'Determined non-seasonal differences (d): {d}')"
   ]
  },
  {
   "cell_type": "code",
   "execution_count": null,
   "id": "31a06981",
   "metadata": {},
   "outputs": [],
   "source": [
    "# Differencing the data once\n",
    "ts_diff = ts_home_value.diff().dropna()\n",
    "ts_diff.plot()\n",
    "# Checking for stationarity\n",
    "get_adfuller_results(ts_diff)"
   ]
  },
  {
   "cell_type": "code",
   "execution_count": null,
   "id": "9a5035e3",
   "metadata": {},
   "outputs": [],
   "source": [
    "plot_acf_pacf(ts_diff);"
   ]
  },
  {
   "cell_type": "code",
   "execution_count": null,
   "id": "68bc7fc7",
   "metadata": {},
   "outputs": [],
   "source": [
    "ts_home_value.info()"
   ]
  },
  {
   "cell_type": "code",
   "execution_count": null,
   "id": "56e88f3d",
   "metadata": {},
   "outputs": [],
   "source": [
    "pip install --upgrade statsmodels"
   ]
  },
  {
   "cell_type": "code",
   "execution_count": null,
   "id": "565c4fb1",
   "metadata": {},
   "outputs": [],
   "source": [
    "# Monthly Home Values Graph\n",
    "monthly_mean = ts['HomeValue'].resample('M').mean()\n",
    "plt.figure(figsize=(12, 6))\n",
    "plt.plot(monthly_mean)\n",
    "plt.title('Monthly Mean Home Values')\n",
    "plt.xlabel('Date')\n",
    "plt.ylabel('Mean Home Value')\n",
    "plt.show()"
   ]
  },
  {
   "cell_type": "code",
   "execution_count": null,
   "id": "60b72abd",
   "metadata": {},
   "outputs": [],
   "source": [
    "import pandas as pd\n",
    "import matplotlib.pyplot as plt\n",
    "from statsmodels.tsa.seasonal import seasonal_decompose\n",
    "\n",
    "# Assuming 'ts' is your DataFrame with a DatetimeIndex and 'HomeValue' column\n",
    "# Extract the 'HomeValue' column with non-null values\n",
    "ts_home_value = ts['HomeValue'].dropna()\n",
    "\n",
    "# Apply seasonal decomposition\n",
    "decomp = seasonal_decompose(ts_home_value)\n",
    "\n",
    "# Plot each component separately\n",
    "plt.figure(figsize=(12, 10))\n",
    "\n",
    "plt.subplot(4, 1, 1)\n",
    "plt.plot(decomp.observed)\n",
    "plt.title('Observed')\n",
    "\n",
    "plt.subplot(4, 1, 2)\n",
    "plt.plot(decomp.trend)\n",
    "plt.title('Trend')\n",
    "\n",
    "plt.subplot(4, 1, 3)\n",
    "plt.plot(decomp.seasonal)\n",
    "plt.title('Seasonal')\n",
    "\n",
    "plt.subplot(4, 1, 4)\n",
    "plt.plot(decomp.resid)\n",
    "plt.title('Residual')\n",
    "\n",
    "plt.tight_layout()\n",
    "plt.show()"
   ]
  },
  {
   "cell_type": "code",
   "execution_count": null,
   "id": "393d56de",
   "metadata": {},
   "outputs": [],
   "source": [
    "import pandas as pd\n",
    "from statsmodels.tsa.seasonal import seasonal_decompose\n",
    "\n",
    "# Assuming 'ts' is your DataFrame with a DatetimeIndex and 'HomeValue' column\n",
    "# Extract the 'HomeValue' column with non-null values\n",
    "ts_home_value = ts['HomeValue'].dropna()\n",
    "\n",
    "# Apply seasonal decomposition\n",
    "decomp = seasonal_decompose(ts_home_value)\n",
    "fig = decomp.plot()\n",
    "fig.set_size_inches(12, 5)\n",
    "fig.tight_layout()"
   ]
  },
  {
   "cell_type": "code",
   "execution_count": null,
   "id": "bdd2f32e",
   "metadata": {},
   "outputs": [],
   "source": [
    "# We see a repeating pattern that is likely seasonal\n",
    "# Apply seasonal decomposition\n",
    "decomp = tsa.seasonal_decompose(ts_home_value)\n",
    "fig = decomp.plot()\n",
    "fig.set_size_inches(12,5)\n",
    "fig.tight_layout()"
   ]
  },
  {
   "cell_type": "code",
   "execution_count": null,
   "id": "a28d27c7",
   "metadata": {},
   "outputs": [],
   "source": [
    "# Convert 'Date' column to datetime format\n",
    "ts['Date'] = pd.to_datetime(ts['Date'], format='%Y-%m-%d', errors='coerce')\n",
    "# Filter data starting from 2018\n",
    "ts = ts[ts['Date'].dt.year >= 2018]\n",
    "# Set 'Date' as the index\n",
    "ts.set_index('Date', inplace=True)"
   ]
  },
  {
   "cell_type": "code",
   "execution_count": null,
   "id": "abbb6cce",
   "metadata": {},
   "outputs": [],
   "source": [
    "ts_home_value.index = pd.to_datetime(ts_home_value.index)\n",
    "ts_home_value = ts_home_value.asfreq('M')"
   ]
  },
  {
   "cell_type": "code",
   "execution_count": null,
   "id": "7b06f62d",
   "metadata": {},
   "outputs": [],
   "source": [
    "# Aggregate values by taking the mean of duplicate timestamps\n",
    "ts_home_value = ts_home_value.groupby('Date').mean()"
   ]
  },
  {
   "cell_type": "code",
   "execution_count": null,
   "id": "5aa0ba73",
   "metadata": {},
   "outputs": [],
   "source": [
    "# Train-test split\n",
    "train_size = int(len(ts) * 0.75)\n",
    "train, test = ts['HomeValue'][:train_size], ts['HomeValue'][train_size:]"
   ]
  },
  {
   "cell_type": "code",
   "execution_count": null,
   "id": "be45ed6b",
   "metadata": {},
   "outputs": [],
   "source": [
    "# Orders for non-seasonal components\n",
    "p = 1\n",
    "d = 1\n",
    "q = 1\n",
    "\n",
    "# Orders for seasonal components\n",
    "P = 1\n",
    "D = 0\n",
    "Q = 1\n",
    "m = 12\n",
    "\n",
    "# Fit SARIMA model\n",
    "sarima = tsa.ARIMA(train, order=(p, d, q), seasonal_order=(P, D, Q, m)).fit()\n",
    "\n",
    "# Obtain summary of forecast as dataframe\n",
    "forecast_df = sarima.get_forecast(len(test)).summary_frame()\n",
    "\n",
    "# Plot the forecast with true values\n",
    "plot_forecast(train, test, forecast_df)\n",
    "# Obtain metrics\n",
    "regression_metrics_ts(test, forecast_df[\"mean\"])\n"
   ]
  },
  {
   "cell_type": "code",
   "execution_count": null,
   "id": "bc6b893a",
   "metadata": {},
   "outputs": [],
   "source": [
    "p_range = range(0, 2)\n",
    "d_range = range(0, 2)\n",
    "q_range = range(0, 2)\n",
    "P_range = range(0, 2)\n",
    "D_range = range(0, 2)\n",
    "Q_range = range(0, 2)\n",
    "m = 12"
   ]
  },
  {
   "cell_type": "code",
   "execution_count": null,
   "id": "7fdeff0a",
   "metadata": {},
   "outputs": [],
   "source": [
    "pip install pmdarima"
   ]
  },
  {
   "cell_type": "code",
   "execution_count": null,
   "id": "c0044995",
   "metadata": {},
   "outputs": [],
   "source": [
    "from sklearn.model_selection import RandomizedSearchCV\n",
    "from pmdarima import ARIMA\n",
    "\n",
    "# Define the parameter distributions\n",
    "param_dist = {\n",
    "    'order': [(p, d, q) for p in p_range for d in d_range for q in q_range],\n",
    "    'seasonal_order': [(P, D, Q, m) for P in P_range for D in D_range for Q in Q_range]\n",
    "}\n",
    "\n",
    "# Create a randomized search\n",
    "random_search = RandomizedSearchCV(\n",
    "    ARIMA(),\n",
    "    param_distributions=param_dist,\n",
    "    n_iter=10,  # Adjust the number of iterations\n",
    "    scoring='aic',  # Use AIC as the scoring metric\n",
    "    cv=5,  # Adjust the number of cross-validation folds\n",
    "    verbose=1,\n",
    "    n_jobs=-1\n",
    ")\n",
    "\n",
    "# Fit the randomized search\n",
    "random_search.fit(train)"
   ]
  },
  {
   "cell_type": "code",
   "execution_count": null,
   "id": "e819f480",
   "metadata": {},
   "outputs": [],
   "source": [
    "from sklearn.model_selection import RandomizedSearchCV\n",
    "\n",
    "# Define the parameter distributions\n",
    "param_dist = {\n",
    "    'order': [(p, d, q) for p in p_range for d in d_range for q in q_range],\n",
    "    'seasonal_order': [(P, D, Q, m) for P in P_range for D in D_range for Q in Q_range]\n",
    "}\n",
    "\n",
    "# Create a randomized search\n",
    "random_search = RandomizedSearchCV(\n",
    "    pm.ARIMA(),\n",
    "    param_distributions=param_dist,\n",
    "    n_iter=10,  # Adjust the number of iterations\n",
    "    scoring='aic',  # Use AIC as the scoring metric\n",
    "    cv=5,  # Adjust the number of cross-validation folds\n",
    "    verbose=1,\n",
    "    n_jobs=-1\n",
    ")\n",
    "\n",
    "# Fit the randomized search\n",
    "random_search.fit(train)\n"
   ]
  }
 ],
 "metadata": {
  "kernelspec": {
   "display_name": "Python (dojo-env)",
   "language": "python",
   "name": "dojo-env"
  },
  "language_info": {
   "codemirror_mode": {
    "name": "ipython",
    "version": 3
   },
   "file_extension": ".py",
   "mimetype": "text/x-python",
   "name": "python",
   "nbconvert_exporter": "python",
   "pygments_lexer": "ipython3",
   "version": "3.11.5"
  }
 },
 "nbformat": 4,
 "nbformat_minor": 5
}
